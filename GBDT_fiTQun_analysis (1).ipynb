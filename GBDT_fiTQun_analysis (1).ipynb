{
 "cells": [
  {
   "cell_type": "code",
   "execution_count": 1,
   "id": "a1289969",
   "metadata": {},
   "outputs": [],
   "source": [
    "import numpy as np\n",
    "import matplotlib.pyplot as plt\n",
    "import pandas as pd\n",
    "import uproot\n",
    "import sys\n",
    "import h5py"
   ]
  },
  {
   "cell_type": "code",
   "execution_count": 2,
   "id": "263f86d8",
   "metadata": {},
   "outputs": [],
   "source": [
    "sys.path.append('/home/surajrai1900/iwcd_gbdt')\n",
    "sys.path.append('/home/surajrai1900/WatChMaL')"
   ]
  },
  {
   "cell_type": "code",
   "execution_count": 3,
   "id": "86e265a3",
   "metadata": {},
   "outputs": [],
   "source": [
    "%load_ext autoreload\n",
    "%autoreload 2"
   ]
  },
  {
   "cell_type": "code",
   "execution_count": 4,
   "id": "fc13f19b",
   "metadata": {},
   "outputs": [
    {
     "name": "stderr",
     "output_type": "stream",
     "text": [
      "/home/surajrai1900/WatChMaL/analysis/__init__.py:4: UserWarning: WARNING: The git repository has uncommitted changes. Please commit changes before running WatChMaL code for proper version control\n",
      "  print(f\"Imported analysis code from WatChMaL repository with git version: {get_git_version(os.path.dirname(__file__))}\")\n"
     ]
    },
    {
     "name": "stdout",
     "output_type": "stream",
     "text": [
      "Imported analysis code from WatChMaL repository with git version: 0ed2fbb-dirty\n"
     ]
    }
   ],
   "source": [
    "import bdt_analysis\n",
    "import train_test_tree\n",
    "import utils\n",
    "import analysis.utils.math as math\n",
    "from analysis.read import FiTQunOutput\n",
    "import analysis.utils.binning as bins"
   ]
  },
  {
   "cell_type": "code",
   "execution_count": 5,
   "id": "efff518e",
   "metadata": {},
   "outputs": [],
   "source": [
    "idxs_path = '/home/pdeperio/machine_learning/data/IWCD_mPMT_Short/index_lists/4class_e_mu_gamma_pi0/IWCD_mPMT_Short_4_class_3M_emgp0_idxs.npz'\n",
    "test_idxs  =  np.load(idxs_path, allow_pickle=True)['test_idxs']\n",
    "data_path = \"/home/pdeperio/machine_learning/data/IWCD_mPMT_Short/IWCD_mPMT_Short_emgp0_E0to1000MeV_digihits.h5\"\n",
    "h5_file = h5py.File(data_path, \"r\")"
   ]
  },
  {
   "cell_type": "code",
   "execution_count": 6,
   "id": "8e3728d0",
   "metadata": {},
   "outputs": [],
   "source": [
    "h5_angles     = np.array(h5_file['angles'])[test_idxs].squeeze()\n",
    "h5_energies   = np.array(h5_file['energies'])[test_idxs].squeeze()\n",
    "h5_positions  = np.array(h5_file['positions'])[test_idxs].squeeze()\n",
    "h5_labels     = np.array(h5_file['labels'])[test_idxs].squeeze()\n",
    "h5_root_files = np.array(h5_file['root_files'])[test_idxs].squeeze()\n",
    "h5_event_ids  = np.array(h5_file['event_ids'])[test_idxs].squeeze()\n",
    "h5_vetos      = np.array(h5_file['veto'])[test_idxs].squeeze()\n",
    "events_hits_index = np.append(h5_file['event_hits_index'], h5_file['hit_pmt'].shape[0])\n",
    "h5_nhits      = (events_hits_index[test_idxs+1] - events_hits_index[test_idxs]).squeeze()"
   ]
  },
  {
   "cell_type": "code",
   "execution_count": 7,
   "id": "9d84ab3a",
   "metadata": {},
   "outputs": [],
   "source": [
    "# create dictionary with keys of the unique root_files\n",
    "root_file_index = dict.fromkeys(h5_root_files)\n",
    "# update the values so each root file key has a value from 0 to the number of files\n",
    "root_file_index.update((k, i) for i, k in enumerate(root_file_index))\n",
    "# create array of root_file_indices of each event in the h5_root_files array\n",
    "root_file_indices = np.vectorize(root_file_index.__getitem__)(h5_root_files)\n",
    "# create the array of offsets from the root_file_indices and the h5_event_ids\n",
    "h5_fq_offsets = 3000*root_file_indices + h5_event_ids"
   ]
  },
  {
   "cell_type": "code",
   "execution_count": 8,
   "id": "8d181953",
   "metadata": {},
   "outputs": [],
   "source": [
    "file_path = '/home/pdeperio/machine_learning/data/IWCD_mPMT_Short/fiTQun/'\n",
    "labels = ['gamma', 'e-', 'mu-', 'pi0']\n",
    "labels_index = [0, 1, 2, 3]\n",
    "fq_files = [file_path + f'IWCD_mPMT_Short_{i}_E0to1000MeV_unif-pos-R400-y300cm_4pi-dir.fiTQun.root' for i in labels]"
   ]
  },
  {
   "cell_type": "code",
   "execution_count": 9,
   "id": "892b6e35",
   "metadata": {},
   "outputs": [],
   "source": [
    "fq = FiTQunOutput(fq_files)"
   ]
  },
  {
   "cell_type": "code",
   "execution_count": 10,
   "id": "4fa4a33f",
   "metadata": {},
   "outputs": [
    {
     "name": "stderr",
     "output_type": "stream",
     "text": [
      "/home/surajrai1900/WatChMaL/analysis/utils/math.py:41: RuntimeWarning: invalid value encountered in sqrt\n",
      "  towall_barrel = (-b + np.sqrt(b**2-a*c)) / a\n",
      "/home/surajrai1900/WatChMaL/analysis/utils/math.py:41: RuntimeWarning: invalid value encountered in true_divide\n",
      "  towall_barrel = (-b + np.sqrt(b**2-a*c)) / a\n"
     ]
    }
   ],
   "source": [
    "reco_e_pos = np.array(fq.electron_position)\n",
    "reco_mu_pos = np.array(fq.muon_position)\n",
    "reco_pi0_pos = np.array(fq.pi0_position)\n",
    "\n",
    "reco_e_angles = math.angles_from_direction(np.array(fq.electron_direction))\n",
    "reco_mu_angles = math.angles_from_direction(np.array(fq.muon_direction))\n",
    "reco_pi0_angles = math.angles_from_direction(np.array(fq.pi0_direction))\n",
    "\n",
    "reco_e_dwall = math.dwall(reco_e_pos)\n",
    "reco_mu_dwall = math.dwall(reco_mu_pos)\n",
    "reco_pi0_dwall = math.dwall(reco_pi0_pos)\n",
    "\n",
    "reco_e_towall = math.towall(reco_e_pos, reco_e_angles)\n",
    "reco_mu_towall = math.towall(reco_mu_pos, reco_mu_angles)\n",
    "reco_pi0_towall = math.towall(reco_pi0_pos, reco_pi0_angles)\n"
   ]
  },
  {
   "cell_type": "code",
   "execution_count": 11,
   "id": "db97d055",
   "metadata": {},
   "outputs": [],
   "source": [
    "def combine(values):\n",
    "    events = values.sum(axis = 0)\n",
    "    return events.astype(bool)"
   ]
  },
  {
   "cell_type": "code",
   "execution_count": 12,
   "id": "d5d4dae3",
   "metadata": {},
   "outputs": [],
   "source": [
    "h5_reco_mom_e = np.array(fq.electron_momentum[h5_fq_offsets])\n",
    "h5_reco_mom_mu = np.array(fq.muon_momentum[h5_fq_offsets])\n",
    "h5_reco_mom_pi0 = np.array(fq.pi0_momentum[h5_fq_offsets])\n",
    "\n",
    "h5_momentum   =  math.momentum_from_energy(h5_energies, h5_labels)\n",
    "h5_towall = math.towall(h5_positions, h5_angles)\n",
    "h5_dwall = math.dwall(h5_positions)\n",
    "\n",
    "h5_vetos = np.array(h5_file['veto'])[test_idxs].squeeze()\n",
    "\n",
    "h5_reco_e_dwall = reco_e_dwall[h5_fq_offsets]\n",
    "h5_reco_mu_dwall = reco_mu_dwall[h5_fq_offsets]\n",
    "h5_reco_pi0_dwall = reco_pi0_dwall[h5_fq_offsets]\n",
    "\n",
    "h5_reco_e_towall = reco_e_towall[h5_fq_offsets]\n",
    "h5_reco_mu_towall = reco_mu_towall[h5_fq_offsets]\n",
    "h5_reco_pi0_towall = reco_pi0_towall[h5_fq_offsets]\n"
   ]
  },
  {
   "cell_type": "code",
   "execution_count": 13,
   "id": "4f92e036",
   "metadata": {},
   "outputs": [],
   "source": [
    "bins_e_mom = bins.get_binning(h5_reco_mom_e[h5_labels == 1], bins = 100, minimum = 0, maximum = 2000)\n",
    "bins_indices_reco_e = bins_e_mom[1]\n",
    "bins_e_true_mom = bins.get_binning(h5_momentum[h5_labels == 1], bins = 100, minimum = 0, maximum = 2000)\n",
    "bins_indices_true_e = bins_e_true_mom[1]\n",
    "\n",
    "bins_mu_mom = bins.get_binning(h5_reco_mom_mu[h5_labels == 2], bins = 100, minimum = 0, maximum = 2000)\n",
    "bins_indices_reco_mu = bins_mu_mom[1]\n",
    "bins_mu_true_mom = bins.get_binning(h5_momentum[h5_labels == 2], bins = 100, minimum = 0, maximum = 2000)\n",
    "bins_indices_true_mu = bins_mu_true_mom[1]\n",
    "\n",
    "bins_pi0_mom = bins.get_binning(h5_reco_mom_pi0[h5_labels == 3], bins = 100, minimum = 0, maximum = 2000)\n",
    "bins_indices_reco_pi0 = bins_pi0_mom[1]\n",
    "bins_pi0_true_mom = bins.get_binning(h5_momentum[h5_labels == 3], bins = 100, minimum = 0, maximum = 2000)\n",
    "bins_indices_true_pi0 = bins_pi0_true_mom[1]"
   ]
  },
  {
   "cell_type": "code",
   "execution_count": 14,
   "id": "c52d4ec5",
   "metadata": {},
   "outputs": [],
   "source": [
    "diagonal_cut_e = np.array([((bins_indices_reco_e == i) & (bins_indices_true_e == i)) for i in range(1, 102)])\n",
    "diagonal_cut_mu = np.array([((bins_indices_reco_mu == i) & (bins_indices_true_mu == i)) for i in range(1, 102)])\n",
    "diagonal_cut_pi0 = np.array([((bins_indices_reco_pi0 == i) & (bins_indices_true_pi0 == i)) for i in range(1, 102)])\n",
    "\n",
    "diagonal_e = combine(diagonal_cut_e)\n",
    "diagonal_mu = combine(diagonal_cut_mu)\n",
    "diagonal_pi0 = combine(diagonal_cut_pi0)\n",
    "diagonal_gamma = h5_labels[h5_labels == 0]"
   ]
  },
  {
   "cell_type": "code",
   "execution_count": 15,
   "id": "fdfb0600",
   "metadata": {},
   "outputs": [
    {
     "name": "stdout",
     "output_type": "stream",
     "text": [
      "0\n",
      "310192\n",
      "325080\n",
      "149161\n"
     ]
    }
   ],
   "source": [
    "print(np.sum(diagonal_gamma))\n",
    "print(np.sum(diagonal_e))\n",
    "print(np.sum(diagonal_mu))\n",
    "print(np.sum(diagonal_pi0))"
   ]
  },
  {
   "cell_type": "code",
   "execution_count": 16,
   "id": "f4291505",
   "metadata": {},
   "outputs": [],
   "source": [
    "diagonal_cut = np.concatenate([diagonal_gamma, diagonal_e, diagonal_mu, diagonal_pi0])"
   ]
  },
  {
   "cell_type": "code",
   "execution_count": 17,
   "id": "910f0d26",
   "metadata": {},
   "outputs": [],
   "source": [
    "def df_pandas(index):    \n",
    "    dict_vals = {}\n",
    "    dict_vals['h5_momentum'] = h5_momentum[h5_labels == index]\n",
    "    dict_vals['h5_towall'] = h5_towall[h5_labels == index]\n",
    "    dict_vals['h5_dwall'] = h5_dwall[h5_labels == index]\n",
    "    dict_vals['h5_reco_mom_e'] = h5_reco_mom_e[h5_labels == index]\n",
    "    dict_vals['h5_reco_mom_mu'] = h5_reco_mom_mu[h5_labels == index]\n",
    "    dict_vals['h5_reco_mom_pi0'] = h5_reco_mom_pi0[h5_labels == index]\n",
    "    dict_vals['h5_reco_e_dwall'] = h5_reco_e_dwall[h5_labels == index]\n",
    "    dict_vals['h5_reco_mu_dwall'] = h5_reco_mu_dwall[h5_labels == index]\n",
    "    dict_vals['h5_reco_pi0_dwall'] = h5_reco_pi0_dwall[h5_labels == index]\n",
    "    dict_vals['h5_reco_e_towall'] = h5_reco_e_towall[h5_labels == index]\n",
    "    dict_vals['h5_reco_mu_towall'] = h5_reco_mu_towall[h5_labels == index]\n",
    "    dict_vals['h5_reco_pi0_towall'] = h5_reco_pi0_towall[h5_labels == index]\n",
    "    dict_vals['h5_vetos'] = h5_vetos[h5_labels == index].astype(int)\n",
    "    dict_vals['sig'] = diagonal_cut[h5_labels == index]\n",
    "\n",
    "    df = pd.DataFrame(dict_vals)\n",
    "    return df"
   ]
  },
  {
   "cell_type": "code",
   "execution_count": 18,
   "id": "1ceba2d9",
   "metadata": {
    "scrolled": false
   },
   "outputs": [
    {
     "data": {
      "text/html": [
       "<div>\n",
       "<style scoped>\n",
       "    .dataframe tbody tr th:only-of-type {\n",
       "        vertical-align: middle;\n",
       "    }\n",
       "\n",
       "    .dataframe tbody tr th {\n",
       "        vertical-align: top;\n",
       "    }\n",
       "\n",
       "    .dataframe thead th {\n",
       "        text-align: right;\n",
       "    }\n",
       "</style>\n",
       "<table border=\"1\" class=\"dataframe\">\n",
       "  <thead>\n",
       "    <tr style=\"text-align: right;\">\n",
       "      <th></th>\n",
       "      <th>h5_momentum</th>\n",
       "      <th>h5_towall</th>\n",
       "      <th>h5_dwall</th>\n",
       "      <th>h5_reco_mom_e</th>\n",
       "      <th>h5_reco_mom_mu</th>\n",
       "      <th>h5_reco_mom_pi0</th>\n",
       "      <th>h5_reco_e_dwall</th>\n",
       "      <th>h5_reco_mu_dwall</th>\n",
       "      <th>h5_reco_pi0_dwall</th>\n",
       "      <th>h5_reco_e_towall</th>\n",
       "      <th>h5_reco_mu_towall</th>\n",
       "      <th>h5_reco_pi0_towall</th>\n",
       "      <th>h5_vetos</th>\n",
       "      <th>sig</th>\n",
       "    </tr>\n",
       "  </thead>\n",
       "  <tbody>\n",
       "    <tr>\n",
       "      <th>0</th>\n",
       "      <td>245.001085</td>\n",
       "      <td>190.761574</td>\n",
       "      <td>64.608521</td>\n",
       "      <td>206.956848</td>\n",
       "      <td>404.032379</td>\n",
       "      <td>174.225952</td>\n",
       "      <td>78.522018</td>\n",
       "      <td>81.258606</td>\n",
       "      <td>47.502060</td>\n",
       "      <td>180.486992</td>\n",
       "      <td>138.650068</td>\n",
       "      <td>222.422247</td>\n",
       "      <td>0</td>\n",
       "      <td>0</td>\n",
       "    </tr>\n",
       "    <tr>\n",
       "      <th>1</th>\n",
       "      <td>855.768398</td>\n",
       "      <td>337.385819</td>\n",
       "      <td>67.418274</td>\n",
       "      <td>842.675598</td>\n",
       "      <td>953.902283</td>\n",
       "      <td>852.125244</td>\n",
       "      <td>75.189301</td>\n",
       "      <td>68.652374</td>\n",
       "      <td>80.701294</td>\n",
       "      <td>348.900632</td>\n",
       "      <td>395.226697</td>\n",
       "      <td>365.440257</td>\n",
       "      <td>0</td>\n",
       "      <td>1</td>\n",
       "    </tr>\n",
       "    <tr>\n",
       "      <th>2</th>\n",
       "      <td>597.023336</td>\n",
       "      <td>138.040446</td>\n",
       "      <td>60.461700</td>\n",
       "      <td>233.178909</td>\n",
       "      <td>515.416809</td>\n",
       "      <td>256.429962</td>\n",
       "      <td>77.010956</td>\n",
       "      <td>82.076202</td>\n",
       "      <td>114.287781</td>\n",
       "      <td>151.587330</td>\n",
       "      <td>162.264948</td>\n",
       "      <td>212.642671</td>\n",
       "      <td>0</td>\n",
       "      <td>0</td>\n",
       "    </tr>\n",
       "    <tr>\n",
       "      <th>3</th>\n",
       "      <td>402.785832</td>\n",
       "      <td>251.795181</td>\n",
       "      <td>176.367126</td>\n",
       "      <td>382.876282</td>\n",
       "      <td>717.984741</td>\n",
       "      <td>380.084259</td>\n",
       "      <td>176.663071</td>\n",
       "      <td>186.916916</td>\n",
       "      <td>203.118301</td>\n",
       "      <td>251.733536</td>\n",
       "      <td>269.217957</td>\n",
       "      <td>302.117004</td>\n",
       "      <td>0</td>\n",
       "      <td>0</td>\n",
       "    </tr>\n",
       "    <tr>\n",
       "      <th>4</th>\n",
       "      <td>830.345780</td>\n",
       "      <td>267.159357</td>\n",
       "      <td>187.088364</td>\n",
       "      <td>906.258545</td>\n",
       "      <td>947.274719</td>\n",
       "      <td>896.135437</td>\n",
       "      <td>188.501816</td>\n",
       "      <td>171.798233</td>\n",
       "      <td>180.783417</td>\n",
       "      <td>259.277523</td>\n",
       "      <td>372.559954</td>\n",
       "      <td>326.528673</td>\n",
       "      <td>0</td>\n",
       "      <td>0</td>\n",
       "    </tr>\n",
       "    <tr>\n",
       "      <th>...</th>\n",
       "      <td>...</td>\n",
       "      <td>...</td>\n",
       "      <td>...</td>\n",
       "      <td>...</td>\n",
       "      <td>...</td>\n",
       "      <td>...</td>\n",
       "      <td>...</td>\n",
       "      <td>...</td>\n",
       "      <td>...</td>\n",
       "      <td>...</td>\n",
       "      <td>...</td>\n",
       "      <td>...</td>\n",
       "      <td>...</td>\n",
       "      <td>...</td>\n",
       "    </tr>\n",
       "    <tr>\n",
       "      <th>1177961</th>\n",
       "      <td>233.741478</td>\n",
       "      <td>286.318447</td>\n",
       "      <td>90.949417</td>\n",
       "      <td>246.317719</td>\n",
       "      <td>473.530609</td>\n",
       "      <td>251.694260</td>\n",
       "      <td>88.268677</td>\n",
       "      <td>84.020935</td>\n",
       "      <td>90.394577</td>\n",
       "      <td>302.831977</td>\n",
       "      <td>341.878165</td>\n",
       "      <td>319.846876</td>\n",
       "      <td>0</td>\n",
       "      <td>0</td>\n",
       "    </tr>\n",
       "    <tr>\n",
       "      <th>1177962</th>\n",
       "      <td>76.400138</td>\n",
       "      <td>47.735718</td>\n",
       "      <td>42.352966</td>\n",
       "      <td>47.053440</td>\n",
       "      <td>224.656464</td>\n",
       "      <td>89.081116</td>\n",
       "      <td>28.691895</td>\n",
       "      <td>31.922180</td>\n",
       "      <td>67.418015</td>\n",
       "      <td>36.108917</td>\n",
       "      <td>39.931274</td>\n",
       "      <td>78.648987</td>\n",
       "      <td>0</td>\n",
       "      <td>0</td>\n",
       "    </tr>\n",
       "    <tr>\n",
       "      <th>1177963</th>\n",
       "      <td>966.660871</td>\n",
       "      <td>276.619362</td>\n",
       "      <td>164.137390</td>\n",
       "      <td>1060.800903</td>\n",
       "      <td>1395.338989</td>\n",
       "      <td>1042.614746</td>\n",
       "      <td>176.220901</td>\n",
       "      <td>167.305939</td>\n",
       "      <td>183.391052</td>\n",
       "      <td>291.237657</td>\n",
       "      <td>422.852404</td>\n",
       "      <td>335.428702</td>\n",
       "      <td>0</td>\n",
       "      <td>0</td>\n",
       "    </tr>\n",
       "    <tr>\n",
       "      <th>1177964</th>\n",
       "      <td>776.515447</td>\n",
       "      <td>475.442017</td>\n",
       "      <td>36.961853</td>\n",
       "      <td>776.103271</td>\n",
       "      <td>827.683777</td>\n",
       "      <td>781.927734</td>\n",
       "      <td>49.248810</td>\n",
       "      <td>45.450897</td>\n",
       "      <td>51.056458</td>\n",
       "      <td>475.733521</td>\n",
       "      <td>507.673065</td>\n",
       "      <td>497.667969</td>\n",
       "      <td>0</td>\n",
       "      <td>1</td>\n",
       "    </tr>\n",
       "    <tr>\n",
       "      <th>1177965</th>\n",
       "      <td>868.010182</td>\n",
       "      <td>144.441529</td>\n",
       "      <td>16.280975</td>\n",
       "      <td>660.824036</td>\n",
       "      <td>875.992615</td>\n",
       "      <td>921.807312</td>\n",
       "      <td>7.976654</td>\n",
       "      <td>27.445374</td>\n",
       "      <td>6.129425</td>\n",
       "      <td>137.510764</td>\n",
       "      <td>205.556791</td>\n",
       "      <td>189.206639</td>\n",
       "      <td>0</td>\n",
       "      <td>0</td>\n",
       "    </tr>\n",
       "  </tbody>\n",
       "</table>\n",
       "<p>1177966 rows × 14 columns</p>\n",
       "</div>"
      ],
      "text/plain": [
       "         h5_momentum   h5_towall    h5_dwall  h5_reco_mom_e  h5_reco_mom_mu  \\\n",
       "0         245.001085  190.761574   64.608521     206.956848      404.032379   \n",
       "1         855.768398  337.385819   67.418274     842.675598      953.902283   \n",
       "2         597.023336  138.040446   60.461700     233.178909      515.416809   \n",
       "3         402.785832  251.795181  176.367126     382.876282      717.984741   \n",
       "4         830.345780  267.159357  187.088364     906.258545      947.274719   \n",
       "...              ...         ...         ...            ...             ...   \n",
       "1177961   233.741478  286.318447   90.949417     246.317719      473.530609   \n",
       "1177962    76.400138   47.735718   42.352966      47.053440      224.656464   \n",
       "1177963   966.660871  276.619362  164.137390    1060.800903     1395.338989   \n",
       "1177964   776.515447  475.442017   36.961853     776.103271      827.683777   \n",
       "1177965   868.010182  144.441529   16.280975     660.824036      875.992615   \n",
       "\n",
       "         h5_reco_mom_pi0  h5_reco_e_dwall  h5_reco_mu_dwall  \\\n",
       "0             174.225952        78.522018         81.258606   \n",
       "1             852.125244        75.189301         68.652374   \n",
       "2             256.429962        77.010956         82.076202   \n",
       "3             380.084259       176.663071        186.916916   \n",
       "4             896.135437       188.501816        171.798233   \n",
       "...                  ...              ...               ...   \n",
       "1177961       251.694260        88.268677         84.020935   \n",
       "1177962        89.081116        28.691895         31.922180   \n",
       "1177963      1042.614746       176.220901        167.305939   \n",
       "1177964       781.927734        49.248810         45.450897   \n",
       "1177965       921.807312         7.976654         27.445374   \n",
       "\n",
       "         h5_reco_pi0_dwall  h5_reco_e_towall  h5_reco_mu_towall  \\\n",
       "0                47.502060        180.486992         138.650068   \n",
       "1                80.701294        348.900632         395.226697   \n",
       "2               114.287781        151.587330         162.264948   \n",
       "3               203.118301        251.733536         269.217957   \n",
       "4               180.783417        259.277523         372.559954   \n",
       "...                    ...               ...                ...   \n",
       "1177961          90.394577        302.831977         341.878165   \n",
       "1177962          67.418015         36.108917          39.931274   \n",
       "1177963         183.391052        291.237657         422.852404   \n",
       "1177964          51.056458        475.733521         507.673065   \n",
       "1177965           6.129425        137.510764         205.556791   \n",
       "\n",
       "         h5_reco_pi0_towall  h5_vetos  sig  \n",
       "0                222.422247         0    0  \n",
       "1                365.440257         0    1  \n",
       "2                212.642671         0    0  \n",
       "3                302.117004         0    0  \n",
       "4                326.528673         0    0  \n",
       "...                     ...       ...  ...  \n",
       "1177961          319.846876         0    0  \n",
       "1177962           78.648987         0    0  \n",
       "1177963          335.428702         0    0  \n",
       "1177964          497.667969         0    1  \n",
       "1177965          189.206639         0    0  \n",
       "\n",
       "[1177966 rows x 14 columns]"
      ]
     },
     "execution_count": 18,
     "metadata": {},
     "output_type": "execute_result"
    }
   ],
   "source": [
    "df = df_pandas(1)\n",
    "df"
   ]
  },
  {
   "cell_type": "code",
   "execution_count": 19,
   "id": "8ebe35b8",
   "metadata": {},
   "outputs": [],
   "source": [
    "df.replace([np.inf, -np.inf], np.nan, inplace=True)\n",
    "df.dropna(inplace=True)"
   ]
  },
  {
   "cell_type": "code",
   "execution_count": 20,
   "id": "eae82df4",
   "metadata": {},
   "outputs": [
    {
     "name": "stdout",
     "output_type": "stream",
     "text": [
      "using gbdt model\n"
     ]
    }
   ],
   "source": [
    "model = train_test_tree.CutEngine(df, train_col = ['h5_momentum', 'h5_towall', 'h5_dwall', 'h5_reco_mom_e', 'h5_vetos', 'sig'], lr = 0.01)"
   ]
  },
  {
   "cell_type": "code",
   "execution_count": 21,
   "id": "2f510ef1",
   "metadata": {},
   "outputs": [],
   "source": [
    "model.train()"
   ]
  },
  {
   "cell_type": "code",
   "execution_count": 22,
   "id": "6102ab06",
   "metadata": {},
   "outputs": [
    {
     "name": "stdout",
     "output_type": "stream",
     "text": [
      "[0.07085148 0.1053686  0.23332724 ... 0.36674825 0.13773221 0.17079208]\n"
     ]
    },
    {
     "data": {
      "image/png": "[encoded data removed]",
      "text/plain": [
       "<Figure size 640x480 with 1 Axes>"
      ]
     },
     "metadata": {},
     "output_type": "display_data"
    },
    {
     "data": {
      "text/plain": [
       "<Figure size 640x480 with 0 Axes>"
      ]
     },
     "metadata": {},
     "output_type": "display_data"
    }
   ],
   "source": [
    "test_prob = model.rf_model.predict_proba(model.X_test_scaled)[:,1]\n",
    "print(test_prob)\n",
    "model.plot_probs(test_prob)"
   ]
  },
  {
   "cell_type": "code",
   "execution_count": 23,
   "id": "90b4a107",
   "metadata": {},
   "outputs": [
    {
     "name": "stderr",
     "output_type": "stream",
     "text": [
      "/usr/local/lib/python3.8/dist-packages/sklearn/metrics/_classification.py:1248: UndefinedMetricWarning: Precision is ill-defined and being set to 0.0 due to no predicted samples. Use `zero_division` parameter to control this behavior.\n",
      "  _warn_prf(average, modifier, msg_start, len(result))\n",
      "/home/surajrai1900/iwcd_gbdt/train_test_tree.py:166: RuntimeWarning: invalid value encountered in double_scalars\n",
      "  mod_f1 = (1+w)*(prec*rec)/(w*prec + rec)\n",
      "/usr/local/lib/python3.8/dist-packages/sklearn/metrics/_classification.py:1248: UndefinedMetricWarning: Precision is ill-defined and being set to 0.0 due to no predicted samples. Use `zero_division` parameter to control this behavior.\n",
      "  _warn_prf(average, modifier, msg_start, len(result))\n",
      "/home/surajrai1900/iwcd_gbdt/train_test_tree.py:166: RuntimeWarning: invalid value encountered in double_scalars\n",
      "  mod_f1 = (1+w)*(prec*rec)/(w*prec + rec)\n",
      "/usr/local/lib/python3.8/dist-packages/sklearn/metrics/_classification.py:1248: UndefinedMetricWarning: Precision is ill-defined and being set to 0.0 due to no predicted samples. Use `zero_division` parameter to control this behavior.\n",
      "  _warn_prf(average, modifier, msg_start, len(result))\n",
      "/home/surajrai1900/iwcd_gbdt/train_test_tree.py:166: RuntimeWarning: invalid value encountered in double_scalars\n",
      "  mod_f1 = (1+w)*(prec*rec)/(w*prec + rec)\n",
      "/usr/local/lib/python3.8/dist-packages/sklearn/metrics/_classification.py:1248: UndefinedMetricWarning: Precision is ill-defined and being set to 0.0 due to no predicted samples. Use `zero_division` parameter to control this behavior.\n",
      "  _warn_prf(average, modifier, msg_start, len(result))\n",
      "/home/surajrai1900/iwcd_gbdt/train_test_tree.py:166: RuntimeWarning: invalid value encountered in double_scalars\n",
      "  mod_f1 = (1+w)*(prec*rec)/(w*prec + rec)\n"
     ]
    }
   ],
   "source": [
    "test_f1, prec, rec = model.test()\n"
   ]
  },
  {
   "cell_type": "code",
   "execution_count": 24,
   "id": "df23ff0f",
   "metadata": {},
   "outputs": [
    {
     "name": "stdout",
     "output_type": "stream",
     "text": [
      "0.538577768259747 0.5118961461914239 0.7284137353972903\n"
     ]
    }
   ],
   "source": [
    "print(test_f1, prec, rec)"
   ]
  },
  {
   "cell_type": "code",
   "execution_count": 25,
   "id": "9c249e0e",
   "metadata": {
    "scrolled": true
   },
   "outputs": [
    {
     "name": "stdout",
     "output_type": "stream",
     "text": [
      "{'h5_momentum': 0.6439497702429251, 'h5_towall': 0.30426428670574235, 'h5_dwall': 0.022423909647645023, 'h5_reco_mom_e': 0.02936203340368771, 'h5_vetos': 0.0}\n"
     ]
    }
   ],
   "source": [
    "feature_imp = model.get_features_importances()\n",
    "print(feature_imp)"
   ]
  },
  {
   "cell_type": "code",
   "execution_count": 26,
   "id": "90eebad3",
   "metadata": {},
   "outputs": [
    {
     "data": {
      "image/png": "[encoded data removed]",
      "text/plain": [
       "<Figure size 640x480 with 1 Axes>"
      ]
     },
     "metadata": {},
     "output_type": "display_data"
    },
    {
     "data": {
      "text/plain": [
       "(0.5584207578735593, 0.8332721204669211, 0.210786115633041)"
      ]
     },
     "execution_count": 26,
     "metadata": {},
     "output_type": "execute_result"
    }
   ],
   "source": [
    "model.test_on_train()"
   ]
  },
  {
   "cell_type": "code",
   "execution_count": 27,
   "id": "2a2036db",
   "metadata": {
    "scrolled": true
   },
   "outputs": [
    {
     "data": {
      "text/plain": [
       "0.26153846153846155"
      ]
     },
     "execution_count": 27,
     "metadata": {},
     "output_type": "execute_result"
    }
   ],
   "source": [
    "model.best_thresh"
   ]
  },
  {
   "cell_type": "code",
   "execution_count": 28,
   "id": "490c4b61",
   "metadata": {},
   "outputs": [
    {
     "data": {
      "text/plain": [
       "array([[-0.12341243, -1.15565369, -0.71928699, -1.15924229,  2.94843401],\n",
       "       [-0.1291602 , -0.87001649, -0.79782428, -0.28106146,  2.94843401],\n",
       "       [ 1.35261146,  0.20587567, -0.44991565,  1.59443402, -0.33916309],\n",
       "       ...,\n",
       "       [-0.65831562,  1.12640327, -0.42272861, -0.45687825, -0.33916309],\n",
       "       [-0.70866604, -0.87776739, -0.08685708, -0.24750212, -0.33916309],\n",
       "       [ 1.54098394, -0.32843296,  0.83418759,  0.77900939, -0.33916309]])"
      ]
     },
     "execution_count": 28,
     "metadata": {},
     "output_type": "execute_result"
    }
   ],
   "source": [
    "model.X_test_scaled"
   ]
  },
  {
   "cell_type": "code",
   "execution_count": 29,
   "id": "b0b2655e",
   "metadata": {},
   "outputs": [
    {
     "data": {
      "text/plain": [
       "62146"
      ]
     },
     "execution_count": 29,
     "metadata": {},
     "output_type": "execute_result"
    }
   ],
   "source": [
    "sum(model.y_test)"
   ]
  },
  {
   "cell_type": "code",
   "execution_count": 30,
   "id": "13c0fec7",
   "metadata": {},
   "outputs": [
    {
     "data": {
      "text/html": [
       "<div>\n",
       "<style scoped>\n",
       "    .dataframe tbody tr th:only-of-type {\n",
       "        vertical-align: middle;\n",
       "    }\n",
       "\n",
       "    .dataframe tbody tr th {\n",
       "        vertical-align: top;\n",
       "    }\n",
       "\n",
       "    .dataframe thead th {\n",
       "        text-align: right;\n",
       "    }\n",
       "</style>\n",
       "<table border=\"1\" class=\"dataframe\">\n",
       "  <thead>\n",
       "    <tr style=\"text-align: right;\">\n",
       "      <th></th>\n",
       "      <th>h5_momentum</th>\n",
       "      <th>h5_towall</th>\n",
       "      <th>h5_dwall</th>\n",
       "      <th>h5_reco_mom_e</th>\n",
       "      <th>h5_reco_mom_mu</th>\n",
       "      <th>h5_reco_mom_pi0</th>\n",
       "      <th>h5_reco_e_dwall</th>\n",
       "      <th>h5_reco_mu_dwall</th>\n",
       "      <th>h5_reco_pi0_dwall</th>\n",
       "      <th>h5_reco_e_towall</th>\n",
       "      <th>h5_reco_mu_towall</th>\n",
       "      <th>h5_reco_pi0_towall</th>\n",
       "      <th>h5_vetos</th>\n",
       "      <th>sig</th>\n",
       "    </tr>\n",
       "  </thead>\n",
       "  <tbody>\n",
       "    <tr>\n",
       "      <th>0</th>\n",
       "      <td>390.431045</td>\n",
       "      <td>190.761574</td>\n",
       "      <td>64.608521</td>\n",
       "      <td>195.601089</td>\n",
       "      <td>396.211212</td>\n",
       "      <td>182.222870</td>\n",
       "      <td>96.302521</td>\n",
       "      <td>69.485870</td>\n",
       "      <td>40.318726</td>\n",
       "      <td>153.853203</td>\n",
       "      <td>190.813670</td>\n",
       "      <td>236.576526</td>\n",
       "      <td>0</td>\n",
       "      <td>1</td>\n",
       "    </tr>\n",
       "    <tr>\n",
       "      <th>1</th>\n",
       "      <td>366.958181</td>\n",
       "      <td>116.690399</td>\n",
       "      <td>64.063889</td>\n",
       "      <td>198.519302</td>\n",
       "      <td>365.972717</td>\n",
       "      <td>143.889603</td>\n",
       "      <td>58.443497</td>\n",
       "      <td>65.958130</td>\n",
       "      <td>66.610580</td>\n",
       "      <td>93.373962</td>\n",
       "      <td>122.936218</td>\n",
       "      <td>94.797974</td>\n",
       "      <td>0</td>\n",
       "      <td>1</td>\n",
       "    </tr>\n",
       "    <tr>\n",
       "      <th>2</th>\n",
       "      <td>820.022567</td>\n",
       "      <td>157.898254</td>\n",
       "      <td>146.082779</td>\n",
       "      <td>401.116699</td>\n",
       "      <td>500.035950</td>\n",
       "      <td>382.356476</td>\n",
       "      <td>130.241394</td>\n",
       "      <td>144.116730</td>\n",
       "      <td>151.163971</td>\n",
       "      <td>130.958557</td>\n",
       "      <td>162.748840</td>\n",
       "      <td>191.744995</td>\n",
       "      <td>1</td>\n",
       "      <td>0</td>\n",
       "    </tr>\n",
       "    <tr>\n",
       "      <th>3</th>\n",
       "      <td>245.318675</td>\n",
       "      <td>162.169028</td>\n",
       "      <td>4.677948</td>\n",
       "      <td>70.471001</td>\n",
       "      <td>290.330841</td>\n",
       "      <td>35.003506</td>\n",
       "      <td>11.607086</td>\n",
       "      <td>7.784149</td>\n",
       "      <td>25.579315</td>\n",
       "      <td>69.992909</td>\n",
       "      <td>104.375438</td>\n",
       "      <td>123.351176</td>\n",
       "      <td>0</td>\n",
       "      <td>0</td>\n",
       "    </tr>\n",
       "    <tr>\n",
       "      <th>4</th>\n",
       "      <td>190.499196</td>\n",
       "      <td>57.558180</td>\n",
       "      <td>39.656494</td>\n",
       "      <td>25.277693</td>\n",
       "      <td>189.667313</td>\n",
       "      <td>27.085699</td>\n",
       "      <td>32.237762</td>\n",
       "      <td>54.290863</td>\n",
       "      <td>56.393799</td>\n",
       "      <td>36.393268</td>\n",
       "      <td>61.813642</td>\n",
       "      <td>70.851217</td>\n",
       "      <td>0</td>\n",
       "      <td>1</td>\n",
       "    </tr>\n",
       "    <tr>\n",
       "      <th>...</th>\n",
       "      <td>...</td>\n",
       "      <td>...</td>\n",
       "      <td>...</td>\n",
       "      <td>...</td>\n",
       "      <td>...</td>\n",
       "      <td>...</td>\n",
       "      <td>...</td>\n",
       "      <td>...</td>\n",
       "      <td>...</td>\n",
       "      <td>...</td>\n",
       "      <td>...</td>\n",
       "      <td>...</td>\n",
       "      <td>...</td>\n",
       "      <td>...</td>\n",
       "    </tr>\n",
       "    <tr>\n",
       "      <th>1164134</th>\n",
       "      <td>579.695268</td>\n",
       "      <td>491.248047</td>\n",
       "      <td>31.538849</td>\n",
       "      <td>328.118530</td>\n",
       "      <td>534.324768</td>\n",
       "      <td>322.024109</td>\n",
       "      <td>47.647659</td>\n",
       "      <td>35.816620</td>\n",
       "      <td>43.715607</td>\n",
       "      <td>286.661499</td>\n",
       "      <td>540.725586</td>\n",
       "      <td>264.857056</td>\n",
       "      <td>0</td>\n",
       "      <td>0</td>\n",
       "    </tr>\n",
       "    <tr>\n",
       "      <th>1164135</th>\n",
       "      <td>1001.043398</td>\n",
       "      <td>178.580150</td>\n",
       "      <td>129.652344</td>\n",
       "      <td>400.317322</td>\n",
       "      <td>543.000122</td>\n",
       "      <td>404.001007</td>\n",
       "      <td>138.309235</td>\n",
       "      <td>151.574570</td>\n",
       "      <td>151.156067</td>\n",
       "      <td>175.155650</td>\n",
       "      <td>191.757191</td>\n",
       "      <td>198.652914</td>\n",
       "      <td>1</td>\n",
       "      <td>0</td>\n",
       "    </tr>\n",
       "    <tr>\n",
       "      <th>1164136</th>\n",
       "      <td>945.693831</td>\n",
       "      <td>33.418060</td>\n",
       "      <td>31.273712</td>\n",
       "      <td>18.327209</td>\n",
       "      <td>187.888229</td>\n",
       "      <td>31.908281</td>\n",
       "      <td>9.576324</td>\n",
       "      <td>9.564362</td>\n",
       "      <td>-8.848511</td>\n",
       "      <td>597.651026</td>\n",
       "      <td>398.410923</td>\n",
       "      <td>NaN</td>\n",
       "      <td>1</td>\n",
       "      <td>0</td>\n",
       "    </tr>\n",
       "    <tr>\n",
       "      <th>1164137</th>\n",
       "      <td>889.349346</td>\n",
       "      <td>372.878450</td>\n",
       "      <td>298.996674</td>\n",
       "      <td>771.922607</td>\n",
       "      <td>916.760193</td>\n",
       "      <td>797.359070</td>\n",
       "      <td>280.669922</td>\n",
       "      <td>293.031433</td>\n",
       "      <td>291.351776</td>\n",
       "      <td>326.482257</td>\n",
       "      <td>384.074852</td>\n",
       "      <td>377.780664</td>\n",
       "      <td>0</td>\n",
       "      <td>0</td>\n",
       "    </tr>\n",
       "    <tr>\n",
       "      <th>1164138</th>\n",
       "      <td>628.791682</td>\n",
       "      <td>35.702057</td>\n",
       "      <td>26.617859</td>\n",
       "      <td>38.326618</td>\n",
       "      <td>235.659866</td>\n",
       "      <td>42.918720</td>\n",
       "      <td>22.180389</td>\n",
       "      <td>23.633820</td>\n",
       "      <td>41.215149</td>\n",
       "      <td>27.107819</td>\n",
       "      <td>39.525055</td>\n",
       "      <td>57.627472</td>\n",
       "      <td>1</td>\n",
       "      <td>0</td>\n",
       "    </tr>\n",
       "  </tbody>\n",
       "</table>\n",
       "<p>1164139 rows × 14 columns</p>\n",
       "</div>"
      ],
      "text/plain": [
       "         h5_momentum   h5_towall    h5_dwall  h5_reco_mom_e  h5_reco_mom_mu  \\\n",
       "0         390.431045  190.761574   64.608521     195.601089      396.211212   \n",
       "1         366.958181  116.690399   64.063889     198.519302      365.972717   \n",
       "2         820.022567  157.898254  146.082779     401.116699      500.035950   \n",
       "3         245.318675  162.169028    4.677948      70.471001      290.330841   \n",
       "4         190.499196   57.558180   39.656494      25.277693      189.667313   \n",
       "...              ...         ...         ...            ...             ...   \n",
       "1164134   579.695268  491.248047   31.538849     328.118530      534.324768   \n",
       "1164135  1001.043398  178.580150  129.652344     400.317322      543.000122   \n",
       "1164136   945.693831   33.418060   31.273712      18.327209      187.888229   \n",
       "1164137   889.349346  372.878450  298.996674     771.922607      916.760193   \n",
       "1164138   628.791682   35.702057   26.617859      38.326618      235.659866   \n",
       "\n",
       "         h5_reco_mom_pi0  h5_reco_e_dwall  h5_reco_mu_dwall  \\\n",
       "0             182.222870        96.302521         69.485870   \n",
       "1             143.889603        58.443497         65.958130   \n",
       "2             382.356476       130.241394        144.116730   \n",
       "3              35.003506        11.607086          7.784149   \n",
       "4              27.085699        32.237762         54.290863   \n",
       "...                  ...              ...               ...   \n",
       "1164134       322.024109        47.647659         35.816620   \n",
       "1164135       404.001007       138.309235        151.574570   \n",
       "1164136        31.908281         9.576324          9.564362   \n",
       "1164137       797.359070       280.669922        293.031433   \n",
       "1164138        42.918720        22.180389         23.633820   \n",
       "\n",
       "         h5_reco_pi0_dwall  h5_reco_e_towall  h5_reco_mu_towall  \\\n",
       "0                40.318726        153.853203         190.813670   \n",
       "1                66.610580         93.373962         122.936218   \n",
       "2               151.163971        130.958557         162.748840   \n",
       "3                25.579315         69.992909         104.375438   \n",
       "4                56.393799         36.393268          61.813642   \n",
       "...                    ...               ...                ...   \n",
       "1164134          43.715607        286.661499         540.725586   \n",
       "1164135         151.156067        175.155650         191.757191   \n",
       "1164136          -8.848511        597.651026         398.410923   \n",
       "1164137         291.351776        326.482257         384.074852   \n",
       "1164138          41.215149         27.107819          39.525055   \n",
       "\n",
       "         h5_reco_pi0_towall  h5_vetos  sig  \n",
       "0                236.576526         0    1  \n",
       "1                 94.797974         0    1  \n",
       "2                191.744995         1    0  \n",
       "3                123.351176         0    0  \n",
       "4                 70.851217         0    1  \n",
       "...                     ...       ...  ...  \n",
       "1164134          264.857056         0    0  \n",
       "1164135          198.652914         1    0  \n",
       "1164136                 NaN         1    0  \n",
       "1164137          377.780664         0    0  \n",
       "1164138           57.627472         1    0  \n",
       "\n",
       "[1164139 rows x 14 columns]"
      ]
     },
     "execution_count": 30,
     "metadata": {},
     "output_type": "execute_result"
    }
   ],
   "source": [
    "df = df_pandas(2)\n",
    "df"
   ]
  },
  {
   "cell_type": "code",
   "execution_count": 31,
   "id": "e4f541c6",
   "metadata": {},
   "outputs": [],
   "source": [
    "df.replace([np.inf, -np.inf], np.nan, inplace=True)\n",
    "df.dropna(inplace=True)"
   ]
  },
  {
   "cell_type": "code",
   "execution_count": 32,
   "id": "9f60212c",
   "metadata": {},
   "outputs": [
    {
     "name": "stdout",
     "output_type": "stream",
     "text": [
      "using gbdt model\n"
     ]
    }
   ],
   "source": [
    "model = train_test_tree.CutEngine(df, train_col = ['h5_momentum', 'h5_towall', 'h5_dwall', 'h5_reco_mom_mu','h5_vetos', 'sig'], lr = 0.01)"
   ]
  },
  {
   "cell_type": "code",
   "execution_count": 33,
   "id": "d726f0b9",
   "metadata": {},
   "outputs": [],
   "source": [
    "model.train()"
   ]
  },
  {
   "cell_type": "code",
   "execution_count": 34,
   "id": "81390fe4",
   "metadata": {},
   "outputs": [
    {
     "name": "stdout",
     "output_type": "stream",
     "text": [
      "[0.51185189 0.45576032 0.42765737 ... 0.09038836 0.45962858 0.58798301]\n"
     ]
    },
    {
     "data": {
      "image/png": "[encoded data removed]",
      "text/plain": [
       "<Figure size 640x480 with 1 Axes>"
      ]
     },
     "metadata": {},
     "output_type": "display_data"
    },
    {
     "data": {
      "text/plain": [
       "<Figure size 640x480 with 0 Axes>"
      ]
     },
     "metadata": {},
     "output_type": "display_data"
    }
   ],
   "source": [
    "test_prob = model.rf_model.predict_proba(model.X_test_scaled)[:,1]\n",
    "print(test_prob)\n",
    "model.plot_probs(test_prob)"
   ]
  },
  {
   "cell_type": "code",
   "execution_count": 35,
   "id": "9994062e",
   "metadata": {},
   "outputs": [
    {
     "name": "stderr",
     "output_type": "stream",
     "text": [
      "/usr/local/lib/python3.8/dist-packages/sklearn/metrics/_classification.py:1248: UndefinedMetricWarning: Precision is ill-defined and being set to 0.0 due to no predicted samples. Use `zero_division` parameter to control this behavior.\n",
      "  _warn_prf(average, modifier, msg_start, len(result))\n",
      "/home/surajrai1900/iwcd_gbdt/train_test_tree.py:166: RuntimeWarning: invalid value encountered in double_scalars\n",
      "  mod_f1 = (1+w)*(prec*rec)/(w*prec + rec)\n",
      "/usr/local/lib/python3.8/dist-packages/sklearn/metrics/_classification.py:1248: UndefinedMetricWarning: Precision is ill-defined and being set to 0.0 due to no predicted samples. Use `zero_division` parameter to control this behavior.\n",
      "  _warn_prf(average, modifier, msg_start, len(result))\n",
      "/home/surajrai1900/iwcd_gbdt/train_test_tree.py:166: RuntimeWarning: invalid value encountered in double_scalars\n",
      "  mod_f1 = (1+w)*(prec*rec)/(w*prec + rec)\n",
      "/usr/local/lib/python3.8/dist-packages/sklearn/metrics/_classification.py:1248: UndefinedMetricWarning: Precision is ill-defined and being set to 0.0 due to no predicted samples. Use `zero_division` parameter to control this behavior.\n",
      "  _warn_prf(average, modifier, msg_start, len(result))\n",
      "/home/surajrai1900/iwcd_gbdt/train_test_tree.py:166: RuntimeWarning: invalid value encountered in double_scalars\n",
      "  mod_f1 = (1+w)*(prec*rec)/(w*prec + rec)\n",
      "/usr/local/lib/python3.8/dist-packages/sklearn/metrics/_classification.py:1248: UndefinedMetricWarning: Precision is ill-defined and being set to 0.0 due to no predicted samples. Use `zero_division` parameter to control this behavior.\n",
      "  _warn_prf(average, modifier, msg_start, len(result))\n",
      "/home/surajrai1900/iwcd_gbdt/train_test_tree.py:166: RuntimeWarning: invalid value encountered in double_scalars\n",
      "  mod_f1 = (1+w)*(prec*rec)/(w*prec + rec)\n",
      "/usr/local/lib/python3.8/dist-packages/sklearn/metrics/_classification.py:1248: UndefinedMetricWarning: Precision is ill-defined and being set to 0.0 due to no predicted samples. Use `zero_division` parameter to control this behavior.\n",
      "  _warn_prf(average, modifier, msg_start, len(result))\n",
      "/home/surajrai1900/iwcd_gbdt/train_test_tree.py:166: RuntimeWarning: invalid value encountered in double_scalars\n",
      "  mod_f1 = (1+w)*(prec*rec)/(w*prec + rec)\n",
      "/usr/local/lib/python3.8/dist-packages/sklearn/metrics/_classification.py:1248: UndefinedMetricWarning: Precision is ill-defined and being set to 0.0 due to no predicted samples. Use `zero_division` parameter to control this behavior.\n",
      "  _warn_prf(average, modifier, msg_start, len(result))\n",
      "/home/surajrai1900/iwcd_gbdt/train_test_tree.py:166: RuntimeWarning: invalid value encountered in double_scalars\n",
      "  mod_f1 = (1+w)*(prec*rec)/(w*prec + rec)\n",
      "/usr/local/lib/python3.8/dist-packages/sklearn/metrics/_classification.py:1248: UndefinedMetricWarning: Precision is ill-defined and being set to 0.0 due to no predicted samples. Use `zero_division` parameter to control this behavior.\n",
      "  _warn_prf(average, modifier, msg_start, len(result))\n",
      "/home/surajrai1900/iwcd_gbdt/train_test_tree.py:166: RuntimeWarning: invalid value encountered in double_scalars\n",
      "  mod_f1 = (1+w)*(prec*rec)/(w*prec + rec)\n",
      "/usr/local/lib/python3.8/dist-packages/sklearn/metrics/_classification.py:1248: UndefinedMetricWarning: Precision is ill-defined and being set to 0.0 due to no predicted samples. Use `zero_division` parameter to control this behavior.\n",
      "  _warn_prf(average, modifier, msg_start, len(result))\n",
      "/home/surajrai1900/iwcd_gbdt/train_test_tree.py:166: RuntimeWarning: invalid value encountered in double_scalars\n",
      "  mod_f1 = (1+w)*(prec*rec)/(w*prec + rec)\n",
      "/usr/local/lib/python3.8/dist-packages/sklearn/metrics/_classification.py:1248: UndefinedMetricWarning: Precision is ill-defined and being set to 0.0 due to no predicted samples. Use `zero_division` parameter to control this behavior.\n",
      "  _warn_prf(average, modifier, msg_start, len(result))\n",
      "/home/surajrai1900/iwcd_gbdt/train_test_tree.py:166: RuntimeWarning: invalid value encountered in double_scalars\n",
      "  mod_f1 = (1+w)*(prec*rec)/(w*prec + rec)\n",
      "/usr/local/lib/python3.8/dist-packages/sklearn/metrics/_classification.py:1248: UndefinedMetricWarning: Precision is ill-defined and being set to 0.0 due to no predicted samples. Use `zero_division` parameter to control this behavior.\n",
      "  _warn_prf(average, modifier, msg_start, len(result))\n",
      "/home/surajrai1900/iwcd_gbdt/train_test_tree.py:166: RuntimeWarning: invalid value encountered in double_scalars\n",
      "  mod_f1 = (1+w)*(prec*rec)/(w*prec + rec)\n"
     ]
    }
   ],
   "source": [
    "test_f1, prec, rec = model.test()\n"
   ]
  },
  {
   "cell_type": "code",
   "execution_count": 36,
   "id": "f61e15af",
   "metadata": {},
   "outputs": [
    {
     "name": "stdout",
     "output_type": "stream",
     "text": [
      "0.580217578112769 0.5447952803747477 0.859705554868242\n"
     ]
    }
   ],
   "source": [
    "print(test_f1, prec, rec)"
   ]
  },
  {
   "cell_type": "code",
   "execution_count": 37,
   "id": "41eb9d38",
   "metadata": {},
   "outputs": [
    {
     "name": "stdout",
     "output_type": "stream",
     "text": [
      "{'h5_momentum': 0.100420175579542, 'h5_towall': 0.001276811227671002, 'h5_dwall': 0.014514659834234538, 'h5_reco_mom_mu': 0.15004639420840388, 'h5_vetos': 0.7337419591501486}\n"
     ]
    }
   ],
   "source": [
    "feature_imp = model.get_features_importances()\n",
    "print(feature_imp)"
   ]
  },
  {
   "cell_type": "code",
   "execution_count": 38,
   "id": "34490fe0",
   "metadata": {},
   "outputs": [
    {
     "data": {
      "image/png": "[encoded data removed]",
      "text/plain": [
       "<Figure size 640x480 with 1 Axes>"
      ]
     },
     "metadata": {},
     "output_type": "display_data"
    },
    {
     "data": {
      "text/plain": [
       "(0.44195741526710197, 0.8059335624284077, 0.13564870690486197)"
      ]
     },
     "execution_count": 38,
     "metadata": {},
     "output_type": "execute_result"
    }
   ],
   "source": [
    "model.test_on_train()"
   ]
  },
  {
   "cell_type": "code",
   "execution_count": 39,
   "id": "bd719e75",
   "metadata": {},
   "outputs": [
    {
     "data": {
      "text/plain": [
       "0.3153846153846154"
      ]
     },
     "execution_count": 39,
     "metadata": {},
     "output_type": "execute_result"
    }
   ],
   "source": [
    "model.best_thresh"
   ]
  },
  {
   "cell_type": "code",
   "execution_count": 40,
   "id": "013e014f",
   "metadata": {},
   "outputs": [
    {
     "data": {
      "text/plain": [
       "array([[-1.08518742, -0.75568473, -0.25533173, -0.6263432 , -0.88059996],\n",
       "       [-0.78351383,  0.2826013 , -0.99191652, -0.30176359, -0.88059996],\n",
       "       [-0.46379255,  0.39601439,  0.27582928,  0.0496742 , -0.88059996],\n",
       "       ...,\n",
       "       [-0.58282158, -0.9997441 , -0.1344351 , -0.5991467 ,  1.13558942],\n",
       "       [-0.95147894, -0.47932351, -0.20441001, -0.52054736, -0.88059996],\n",
       "       [-1.52650705,  0.1203273 , -0.82942208, -1.20351901, -0.88059996]])"
      ]
     },
     "execution_count": 40,
     "metadata": {},
     "output_type": "execute_result"
    }
   ],
   "source": [
    "model.X_test_scaled"
   ]
  },
  {
   "cell_type": "code",
   "execution_count": 41,
   "id": "29a0129f",
   "metadata": {},
   "outputs": [
    {
     "data": {
      "text/plain": [
       "64664"
      ]
     },
     "execution_count": 41,
     "metadata": {},
     "output_type": "execute_result"
    }
   ],
   "source": [
    "sum(model.y_test)"
   ]
  },
  {
   "cell_type": "code",
   "execution_count": 42,
   "id": "3b6ceb50",
   "metadata": {},
   "outputs": [
    {
     "data": {
      "text/html": [
       "<div>\n",
       "<style scoped>\n",
       "    .dataframe tbody tr th:only-of-type {\n",
       "        vertical-align: middle;\n",
       "    }\n",
       "\n",
       "    .dataframe tbody tr th {\n",
       "        vertical-align: top;\n",
       "    }\n",
       "\n",
       "    .dataframe thead th {\n",
       "        text-align: right;\n",
       "    }\n",
       "</style>\n",
       "<table border=\"1\" class=\"dataframe\">\n",
       "  <thead>\n",
       "    <tr style=\"text-align: right;\">\n",
       "      <th></th>\n",
       "      <th>h5_momentum</th>\n",
       "      <th>h5_towall</th>\n",
       "      <th>h5_dwall</th>\n",
       "      <th>h5_reco_mom_e</th>\n",
       "      <th>h5_reco_mom_mu</th>\n",
       "      <th>h5_reco_mom_pi0</th>\n",
       "      <th>h5_reco_e_dwall</th>\n",
       "      <th>h5_reco_mu_dwall</th>\n",
       "      <th>h5_reco_pi0_dwall</th>\n",
       "      <th>h5_reco_e_towall</th>\n",
       "      <th>h5_reco_mu_towall</th>\n",
       "      <th>h5_reco_pi0_towall</th>\n",
       "      <th>h5_vetos</th>\n",
       "      <th>sig</th>\n",
       "    </tr>\n",
       "  </thead>\n",
       "  <tbody>\n",
       "    <tr>\n",
       "      <th>0</th>\n",
       "      <td>357.682680</td>\n",
       "      <td>190.761574</td>\n",
       "      <td>64.608521</td>\n",
       "      <td>251.625732</td>\n",
       "      <td>458.686859</td>\n",
       "      <td>183.660721</td>\n",
       "      <td>41.355560</td>\n",
       "      <td>27.491760</td>\n",
       "      <td>48.386200</td>\n",
       "      <td>214.160434</td>\n",
       "      <td>245.353337</td>\n",
       "      <td>211.020733</td>\n",
       "      <td>0</td>\n",
       "      <td>0</td>\n",
       "    </tr>\n",
       "    <tr>\n",
       "      <th>1</th>\n",
       "      <td>197.131473</td>\n",
       "      <td>104.812958</td>\n",
       "      <td>54.781342</td>\n",
       "      <td>85.326340</td>\n",
       "      <td>296.408112</td>\n",
       "      <td>220.460541</td>\n",
       "      <td>64.657715</td>\n",
       "      <td>63.641876</td>\n",
       "      <td>49.078644</td>\n",
       "      <td>153.024292</td>\n",
       "      <td>243.855469</td>\n",
       "      <td>109.496170</td>\n",
       "      <td>0</td>\n",
       "      <td>0</td>\n",
       "    </tr>\n",
       "    <tr>\n",
       "      <th>2</th>\n",
       "      <td>136.682374</td>\n",
       "      <td>481.660095</td>\n",
       "      <td>199.010498</td>\n",
       "      <td>191.666641</td>\n",
       "      <td>432.649261</td>\n",
       "      <td>139.791962</td>\n",
       "      <td>173.688568</td>\n",
       "      <td>134.225861</td>\n",
       "      <td>179.282700</td>\n",
       "      <td>458.864914</td>\n",
       "      <td>520.898858</td>\n",
       "      <td>494.148656</td>\n",
       "      <td>0</td>\n",
       "      <td>1</td>\n",
       "    </tr>\n",
       "    <tr>\n",
       "      <th>3</th>\n",
       "      <td>629.074737</td>\n",
       "      <td>169.846802</td>\n",
       "      <td>85.083420</td>\n",
       "      <td>381.309967</td>\n",
       "      <td>556.547119</td>\n",
       "      <td>485.354828</td>\n",
       "      <td>65.988800</td>\n",
       "      <td>66.591507</td>\n",
       "      <td>61.930511</td>\n",
       "      <td>158.443665</td>\n",
       "      <td>201.857117</td>\n",
       "      <td>161.331299</td>\n",
       "      <td>0</td>\n",
       "      <td>0</td>\n",
       "    </tr>\n",
       "    <tr>\n",
       "      <th>4</th>\n",
       "      <td>612.343903</td>\n",
       "      <td>574.656603</td>\n",
       "      <td>21.334351</td>\n",
       "      <td>627.487305</td>\n",
       "      <td>778.417480</td>\n",
       "      <td>631.732910</td>\n",
       "      <td>58.747086</td>\n",
       "      <td>17.900818</td>\n",
       "      <td>41.933990</td>\n",
       "      <td>526.903291</td>\n",
       "      <td>599.314393</td>\n",
       "      <td>560.168450</td>\n",
       "      <td>1</td>\n",
       "      <td>0</td>\n",
       "    </tr>\n",
       "    <tr>\n",
       "      <th>...</th>\n",
       "      <td>...</td>\n",
       "      <td>...</td>\n",
       "      <td>...</td>\n",
       "      <td>...</td>\n",
       "      <td>...</td>\n",
       "      <td>...</td>\n",
       "      <td>...</td>\n",
       "      <td>...</td>\n",
       "      <td>...</td>\n",
       "      <td>...</td>\n",
       "      <td>...</td>\n",
       "      <td>...</td>\n",
       "      <td>...</td>\n",
       "      <td>...</td>\n",
       "    </tr>\n",
       "    <tr>\n",
       "      <th>1147033</th>\n",
       "      <td>1129.409646</td>\n",
       "      <td>700.627380</td>\n",
       "      <td>1.895538</td>\n",
       "      <td>775.435730</td>\n",
       "      <td>914.885193</td>\n",
       "      <td>775.707031</td>\n",
       "      <td>94.645874</td>\n",
       "      <td>29.640259</td>\n",
       "      <td>59.765900</td>\n",
       "      <td>692.367065</td>\n",
       "      <td>760.993713</td>\n",
       "      <td>701.755798</td>\n",
       "      <td>0</td>\n",
       "      <td>0</td>\n",
       "    </tr>\n",
       "    <tr>\n",
       "      <th>1147034</th>\n",
       "      <td>762.779145</td>\n",
       "      <td>261.614868</td>\n",
       "      <td>60.631088</td>\n",
       "      <td>364.943909</td>\n",
       "      <td>523.743347</td>\n",
       "      <td>403.631989</td>\n",
       "      <td>56.375961</td>\n",
       "      <td>44.564209</td>\n",
       "      <td>66.872375</td>\n",
       "      <td>289.517944</td>\n",
       "      <td>321.209600</td>\n",
       "      <td>378.410173</td>\n",
       "      <td>0</td>\n",
       "      <td>0</td>\n",
       "    </tr>\n",
       "    <tr>\n",
       "      <th>1147035</th>\n",
       "      <td>570.130133</td>\n",
       "      <td>141.040481</td>\n",
       "      <td>23.028564</td>\n",
       "      <td>582.555054</td>\n",
       "      <td>768.801270</td>\n",
       "      <td>458.317535</td>\n",
       "      <td>46.259186</td>\n",
       "      <td>28.427521</td>\n",
       "      <td>34.372620</td>\n",
       "      <td>190.915211</td>\n",
       "      <td>270.893220</td>\n",
       "      <td>231.291059</td>\n",
       "      <td>0</td>\n",
       "      <td>0</td>\n",
       "    </tr>\n",
       "    <tr>\n",
       "      <th>1147036</th>\n",
       "      <td>424.911380</td>\n",
       "      <td>368.044983</td>\n",
       "      <td>125.783417</td>\n",
       "      <td>367.815887</td>\n",
       "      <td>579.801514</td>\n",
       "      <td>314.702240</td>\n",
       "      <td>124.889160</td>\n",
       "      <td>129.757202</td>\n",
       "      <td>134.189880</td>\n",
       "      <td>354.853577</td>\n",
       "      <td>387.064941</td>\n",
       "      <td>382.383728</td>\n",
       "      <td>1</td>\n",
       "      <td>0</td>\n",
       "    </tr>\n",
       "    <tr>\n",
       "      <th>1147037</th>\n",
       "      <td>1091.299352</td>\n",
       "      <td>484.075165</td>\n",
       "      <td>161.192245</td>\n",
       "      <td>1113.494873</td>\n",
       "      <td>1201.873169</td>\n",
       "      <td>1112.352417</td>\n",
       "      <td>162.469498</td>\n",
       "      <td>72.157181</td>\n",
       "      <td>147.478622</td>\n",
       "      <td>485.344269</td>\n",
       "      <td>608.884033</td>\n",
       "      <td>501.619781</td>\n",
       "      <td>0</td>\n",
       "      <td>0</td>\n",
       "    </tr>\n",
       "  </tbody>\n",
       "</table>\n",
       "<p>1147038 rows × 14 columns</p>\n",
       "</div>"
      ],
      "text/plain": [
       "         h5_momentum   h5_towall    h5_dwall  h5_reco_mom_e  h5_reco_mom_mu  \\\n",
       "0         357.682680  190.761574   64.608521     251.625732      458.686859   \n",
       "1         197.131473  104.812958   54.781342      85.326340      296.408112   \n",
       "2         136.682374  481.660095  199.010498     191.666641      432.649261   \n",
       "3         629.074737  169.846802   85.083420     381.309967      556.547119   \n",
       "4         612.343903  574.656603   21.334351     627.487305      778.417480   \n",
       "...              ...         ...         ...            ...             ...   \n",
       "1147033  1129.409646  700.627380    1.895538     775.435730      914.885193   \n",
       "1147034   762.779145  261.614868   60.631088     364.943909      523.743347   \n",
       "1147035   570.130133  141.040481   23.028564     582.555054      768.801270   \n",
       "1147036   424.911380  368.044983  125.783417     367.815887      579.801514   \n",
       "1147037  1091.299352  484.075165  161.192245    1113.494873     1201.873169   \n",
       "\n",
       "         h5_reco_mom_pi0  h5_reco_e_dwall  h5_reco_mu_dwall  \\\n",
       "0             183.660721        41.355560         27.491760   \n",
       "1             220.460541        64.657715         63.641876   \n",
       "2             139.791962       173.688568        134.225861   \n",
       "3             485.354828        65.988800         66.591507   \n",
       "4             631.732910        58.747086         17.900818   \n",
       "...                  ...              ...               ...   \n",
       "1147033       775.707031        94.645874         29.640259   \n",
       "1147034       403.631989        56.375961         44.564209   \n",
       "1147035       458.317535        46.259186         28.427521   \n",
       "1147036       314.702240       124.889160        129.757202   \n",
       "1147037      1112.352417       162.469498         72.157181   \n",
       "\n",
       "         h5_reco_pi0_dwall  h5_reco_e_towall  h5_reco_mu_towall  \\\n",
       "0                48.386200        214.160434         245.353337   \n",
       "1                49.078644        153.024292         243.855469   \n",
       "2               179.282700        458.864914         520.898858   \n",
       "3                61.930511        158.443665         201.857117   \n",
       "4                41.933990        526.903291         599.314393   \n",
       "...                    ...               ...                ...   \n",
       "1147033          59.765900        692.367065         760.993713   \n",
       "1147034          66.872375        289.517944         321.209600   \n",
       "1147035          34.372620        190.915211         270.893220   \n",
       "1147036         134.189880        354.853577         387.064941   \n",
       "1147037         147.478622        485.344269         608.884033   \n",
       "\n",
       "         h5_reco_pi0_towall  h5_vetos  sig  \n",
       "0                211.020733         0    0  \n",
       "1                109.496170         0    0  \n",
       "2                494.148656         0    1  \n",
       "3                161.331299         0    0  \n",
       "4                560.168450         1    0  \n",
       "...                     ...       ...  ...  \n",
       "1147033          701.755798         0    0  \n",
       "1147034          378.410173         0    0  \n",
       "1147035          231.291059         0    0  \n",
       "1147036          382.383728         1    0  \n",
       "1147037          501.619781         0    0  \n",
       "\n",
       "[1147038 rows x 14 columns]"
      ]
     },
     "execution_count": 42,
     "metadata": {},
     "output_type": "execute_result"
    }
   ],
   "source": [
    "df = df_pandas(3)\n",
    "df"
   ]
  },
  {
   "cell_type": "code",
   "execution_count": 43,
   "id": "a7d31b57",
   "metadata": {},
   "outputs": [],
   "source": [
    "df.replace([np.inf, -np.inf], np.nan, inplace=True)\n",
    "df.dropna(inplace=True)"
   ]
  },
  {
   "cell_type": "code",
   "execution_count": 44,
   "id": "5927238e",
   "metadata": {},
   "outputs": [
    {
     "name": "stdout",
     "output_type": "stream",
     "text": [
      "using gbdt model\n"
     ]
    }
   ],
   "source": [
    "model = train_test_tree.CutEngine(df, train_col = ['h5_momentum', 'h5_towall', 'h5_dwall', 'h5_reco_mom_pi0', 'h5_vetos', 'sig'], lr = 0.01)"
   ]
  },
  {
   "cell_type": "code",
   "execution_count": 45,
   "id": "b43caf8a",
   "metadata": {},
   "outputs": [],
   "source": [
    "model.train()"
   ]
  },
  {
   "cell_type": "code",
   "execution_count": 46,
   "id": "e31ee207",
   "metadata": {},
   "outputs": [
    {
     "name": "stdout",
     "output_type": "stream",
     "text": [
      "[0.04168317 0.19029749 0.12850102 ... 0.04241259 0.03839835 0.08274411]\n"
     ]
    },
    {
     "data": {
      "image/png": "[encoded data removed]",
      "text/plain": [
       "<Figure size 640x480 with 1 Axes>"
      ]
     },
     "metadata": {},
     "output_type": "display_data"
    },
    {
     "data": {
      "text/plain": [
       "<Figure size 640x480 with 0 Axes>"
      ]
     },
     "metadata": {},
     "output_type": "display_data"
    }
   ],
   "source": [
    "test_prob = model.rf_model.predict_proba(model.X_test_scaled)[:,1]\n",
    "print(test_prob)\n",
    "model.plot_probs(test_prob)"
   ]
  },
  {
   "cell_type": "code",
   "execution_count": 47,
   "id": "c32b476f",
   "metadata": {},
   "outputs": [
    {
     "name": "stderr",
     "output_type": "stream",
     "text": [
      "/usr/local/lib/python3.8/dist-packages/sklearn/metrics/_classification.py:1248: UndefinedMetricWarning: Precision is ill-defined and being set to 0.0 due to no predicted samples. Use `zero_division` parameter to control this behavior.\n",
      "  _warn_prf(average, modifier, msg_start, len(result))\n",
      "/home/surajrai1900/iwcd_gbdt/train_test_tree.py:166: RuntimeWarning: invalid value encountered in double_scalars\n",
      "  mod_f1 = (1+w)*(prec*rec)/(w*prec + rec)\n",
      "/usr/local/lib/python3.8/dist-packages/sklearn/metrics/_classification.py:1248: UndefinedMetricWarning: Precision is ill-defined and being set to 0.0 due to no predicted samples. Use `zero_division` parameter to control this behavior.\n",
      "  _warn_prf(average, modifier, msg_start, len(result))\n",
      "/home/surajrai1900/iwcd_gbdt/train_test_tree.py:166: RuntimeWarning: invalid value encountered in double_scalars\n",
      "  mod_f1 = (1+w)*(prec*rec)/(w*prec + rec)\n",
      "/usr/local/lib/python3.8/dist-packages/sklearn/metrics/_classification.py:1248: UndefinedMetricWarning: Precision is ill-defined and being set to 0.0 due to no predicted samples. Use `zero_division` parameter to control this behavior.\n",
      "  _warn_prf(average, modifier, msg_start, len(result))\n",
      "/home/surajrai1900/iwcd_gbdt/train_test_tree.py:166: RuntimeWarning: invalid value encountered in double_scalars\n",
      "  mod_f1 = (1+w)*(prec*rec)/(w*prec + rec)\n",
      "/usr/local/lib/python3.8/dist-packages/sklearn/metrics/_classification.py:1248: UndefinedMetricWarning: Precision is ill-defined and being set to 0.0 due to no predicted samples. Use `zero_division` parameter to control this behavior.\n",
      "  _warn_prf(average, modifier, msg_start, len(result))\n",
      "/home/surajrai1900/iwcd_gbdt/train_test_tree.py:166: RuntimeWarning: invalid value encountered in double_scalars\n",
      "  mod_f1 = (1+w)*(prec*rec)/(w*prec + rec)\n",
      "/usr/local/lib/python3.8/dist-packages/sklearn/metrics/_classification.py:1248: UndefinedMetricWarning: Precision is ill-defined and being set to 0.0 due to no predicted samples. Use `zero_division` parameter to control this behavior.\n",
      "  _warn_prf(average, modifier, msg_start, len(result))\n",
      "/home/surajrai1900/iwcd_gbdt/train_test_tree.py:166: RuntimeWarning: invalid value encountered in double_scalars\n",
      "  mod_f1 = (1+w)*(prec*rec)/(w*prec + rec)\n",
      "/usr/local/lib/python3.8/dist-packages/sklearn/metrics/_classification.py:1248: UndefinedMetricWarning: Precision is ill-defined and being set to 0.0 due to no predicted samples. Use `zero_division` parameter to control this behavior.\n",
      "  _warn_prf(average, modifier, msg_start, len(result))\n",
      "/home/surajrai1900/iwcd_gbdt/train_test_tree.py:166: RuntimeWarning: invalid value encountered in double_scalars\n",
      "  mod_f1 = (1+w)*(prec*rec)/(w*prec + rec)\n",
      "/usr/local/lib/python3.8/dist-packages/sklearn/metrics/_classification.py:1248: UndefinedMetricWarning: Precision is ill-defined and being set to 0.0 due to no predicted samples. Use `zero_division` parameter to control this behavior.\n",
      "  _warn_prf(average, modifier, msg_start, len(result))\n",
      "/home/surajrai1900/iwcd_gbdt/train_test_tree.py:166: RuntimeWarning: invalid value encountered in double_scalars\n",
      "  mod_f1 = (1+w)*(prec*rec)/(w*prec + rec)\n",
      "/usr/local/lib/python3.8/dist-packages/sklearn/metrics/_classification.py:1248: UndefinedMetricWarning: Precision is ill-defined and being set to 0.0 due to no predicted samples. Use `zero_division` parameter to control this behavior.\n",
      "  _warn_prf(average, modifier, msg_start, len(result))\n",
      "/home/surajrai1900/iwcd_gbdt/train_test_tree.py:166: RuntimeWarning: invalid value encountered in double_scalars\n",
      "  mod_f1 = (1+w)*(prec*rec)/(w*prec + rec)\n",
      "/usr/local/lib/python3.8/dist-packages/sklearn/metrics/_classification.py:1248: UndefinedMetricWarning: Precision is ill-defined and being set to 0.0 due to no predicted samples. Use `zero_division` parameter to control this behavior.\n",
      "  _warn_prf(average, modifier, msg_start, len(result))\n",
      "/home/surajrai1900/iwcd_gbdt/train_test_tree.py:166: RuntimeWarning: invalid value encountered in double_scalars\n",
      "  mod_f1 = (1+w)*(prec*rec)/(w*prec + rec)\n",
      "/usr/local/lib/python3.8/dist-packages/sklearn/metrics/_classification.py:1248: UndefinedMetricWarning: Precision is ill-defined and being set to 0.0 due to no predicted samples. Use `zero_division` parameter to control this behavior.\n",
      "  _warn_prf(average, modifier, msg_start, len(result))\n",
      "/home/surajrai1900/iwcd_gbdt/train_test_tree.py:166: RuntimeWarning: invalid value encountered in double_scalars\n",
      "  mod_f1 = (1+w)*(prec*rec)/(w*prec + rec)\n",
      "/usr/local/lib/python3.8/dist-packages/sklearn/metrics/_classification.py:1248: UndefinedMetricWarning: Precision is ill-defined and being set to 0.0 due to no predicted samples. Use `zero_division` parameter to control this behavior.\n",
      "  _warn_prf(average, modifier, msg_start, len(result))\n",
      "/home/surajrai1900/iwcd_gbdt/train_test_tree.py:166: RuntimeWarning: invalid value encountered in double_scalars\n",
      "  mod_f1 = (1+w)*(prec*rec)/(w*prec + rec)\n",
      "/usr/local/lib/python3.8/dist-packages/sklearn/metrics/_classification.py:1248: UndefinedMetricWarning: Precision is ill-defined and being set to 0.0 due to no predicted samples. Use `zero_division` parameter to control this behavior.\n",
      "  _warn_prf(average, modifier, msg_start, len(result))\n",
      "/home/surajrai1900/iwcd_gbdt/train_test_tree.py:166: RuntimeWarning: invalid value encountered in double_scalars\n",
      "  mod_f1 = (1+w)*(prec*rec)/(w*prec + rec)\n",
      "/usr/local/lib/python3.8/dist-packages/sklearn/metrics/_classification.py:1248: UndefinedMetricWarning: Precision is ill-defined and being set to 0.0 due to no predicted samples. Use `zero_division` parameter to control this behavior.\n",
      "  _warn_prf(average, modifier, msg_start, len(result))\n",
      "/home/surajrai1900/iwcd_gbdt/train_test_tree.py:166: RuntimeWarning: invalid value encountered in double_scalars\n",
      "  mod_f1 = (1+w)*(prec*rec)/(w*prec + rec)\n",
      "/usr/local/lib/python3.8/dist-packages/sklearn/metrics/_classification.py:1248: UndefinedMetricWarning: Precision is ill-defined and being set to 0.0 due to no predicted samples. Use `zero_division` parameter to control this behavior.\n",
      "  _warn_prf(average, modifier, msg_start, len(result))\n",
      "/home/surajrai1900/iwcd_gbdt/train_test_tree.py:166: RuntimeWarning: invalid value encountered in double_scalars\n",
      "  mod_f1 = (1+w)*(prec*rec)/(w*prec + rec)\n",
      "/usr/local/lib/python3.8/dist-packages/sklearn/metrics/_classification.py:1248: UndefinedMetricWarning: Precision is ill-defined and being set to 0.0 due to no predicted samples. Use `zero_division` parameter to control this behavior.\n",
      "  _warn_prf(average, modifier, msg_start, len(result))\n",
      "/home/surajrai1900/iwcd_gbdt/train_test_tree.py:166: RuntimeWarning: invalid value encountered in double_scalars\n",
      "  mod_f1 = (1+w)*(prec*rec)/(w*prec + rec)\n",
      "/usr/local/lib/python3.8/dist-packages/sklearn/metrics/_classification.py:1248: UndefinedMetricWarning: Precision is ill-defined and being set to 0.0 due to no predicted samples. Use `zero_division` parameter to control this behavior.\n",
      "  _warn_prf(average, modifier, msg_start, len(result))\n",
      "/home/surajrai1900/iwcd_gbdt/train_test_tree.py:166: RuntimeWarning: invalid value encountered in double_scalars\n",
      "  mod_f1 = (1+w)*(prec*rec)/(w*prec + rec)\n",
      "/usr/local/lib/python3.8/dist-packages/sklearn/metrics/_classification.py:1248: UndefinedMetricWarning: Precision is ill-defined and being set to 0.0 due to no predicted samples. Use `zero_division` parameter to control this behavior.\n",
      "  _warn_prf(average, modifier, msg_start, len(result))\n",
      "/home/surajrai1900/iwcd_gbdt/train_test_tree.py:166: RuntimeWarning: invalid value encountered in double_scalars\n",
      "  mod_f1 = (1+w)*(prec*rec)/(w*prec + rec)\n",
      "/usr/local/lib/python3.8/dist-packages/sklearn/metrics/_classification.py:1248: UndefinedMetricWarning: Precision is ill-defined and being set to 0.0 due to no predicted samples. Use `zero_division` parameter to control this behavior.\n",
      "  _warn_prf(average, modifier, msg_start, len(result))\n",
      "/home/surajrai1900/iwcd_gbdt/train_test_tree.py:166: RuntimeWarning: invalid value encountered in double_scalars\n",
      "  mod_f1 = (1+w)*(prec*rec)/(w*prec + rec)\n",
      "/usr/local/lib/python3.8/dist-packages/sklearn/metrics/_classification.py:1248: UndefinedMetricWarning: Precision is ill-defined and being set to 0.0 due to no predicted samples. Use `zero_division` parameter to control this behavior.\n",
      "  _warn_prf(average, modifier, msg_start, len(result))\n",
      "/home/surajrai1900/iwcd_gbdt/train_test_tree.py:166: RuntimeWarning: invalid value encountered in double_scalars\n",
      "  mod_f1 = (1+w)*(prec*rec)/(w*prec + rec)\n",
      "/usr/local/lib/python3.8/dist-packages/sklearn/metrics/_classification.py:1248: UndefinedMetricWarning: Precision is ill-defined and being set to 0.0 due to no predicted samples. Use `zero_division` parameter to control this behavior.\n",
      "  _warn_prf(average, modifier, msg_start, len(result))\n",
      "/home/surajrai1900/iwcd_gbdt/train_test_tree.py:166: RuntimeWarning: invalid value encountered in double_scalars\n",
      "  mod_f1 = (1+w)*(prec*rec)/(w*prec + rec)\n",
      "/usr/local/lib/python3.8/dist-packages/sklearn/metrics/_classification.py:1248: UndefinedMetricWarning: Precision is ill-defined and being set to 0.0 due to no predicted samples. Use `zero_division` parameter to control this behavior.\n",
      "  _warn_prf(average, modifier, msg_start, len(result))\n",
      "/home/surajrai1900/iwcd_gbdt/train_test_tree.py:166: RuntimeWarning: invalid value encountered in double_scalars\n",
      "  mod_f1 = (1+w)*(prec*rec)/(w*prec + rec)\n",
      "/usr/local/lib/python3.8/dist-packages/sklearn/metrics/_classification.py:1248: UndefinedMetricWarning: Precision is ill-defined and being set to 0.0 due to no predicted samples. Use `zero_division` parameter to control this behavior.\n",
      "  _warn_prf(average, modifier, msg_start, len(result))\n",
      "/home/surajrai1900/iwcd_gbdt/train_test_tree.py:166: RuntimeWarning: invalid value encountered in double_scalars\n",
      "  mod_f1 = (1+w)*(prec*rec)/(w*prec + rec)\n",
      "/usr/local/lib/python3.8/dist-packages/sklearn/metrics/_classification.py:1248: UndefinedMetricWarning: Precision is ill-defined and being set to 0.0 due to no predicted samples. Use `zero_division` parameter to control this behavior.\n",
      "  _warn_prf(average, modifier, msg_start, len(result))\n",
      "/home/surajrai1900/iwcd_gbdt/train_test_tree.py:166: RuntimeWarning: invalid value encountered in double_scalars\n",
      "  mod_f1 = (1+w)*(prec*rec)/(w*prec + rec)\n",
      "/usr/local/lib/python3.8/dist-packages/sklearn/metrics/_classification.py:1248: UndefinedMetricWarning: Precision is ill-defined and being set to 0.0 due to no predicted samples. Use `zero_division` parameter to control this behavior.\n",
      "  _warn_prf(average, modifier, msg_start, len(result))\n",
      "/home/surajrai1900/iwcd_gbdt/train_test_tree.py:166: RuntimeWarning: invalid value encountered in double_scalars\n",
      "  mod_f1 = (1+w)*(prec*rec)/(w*prec + rec)\n",
      "/usr/local/lib/python3.8/dist-packages/sklearn/metrics/_classification.py:1248: UndefinedMetricWarning: Precision is ill-defined and being set to 0.0 due to no predicted samples. Use `zero_division` parameter to control this behavior.\n",
      "  _warn_prf(average, modifier, msg_start, len(result))\n",
      "/home/surajrai1900/iwcd_gbdt/train_test_tree.py:166: RuntimeWarning: invalid value encountered in double_scalars\n",
      "  mod_f1 = (1+w)*(prec*rec)/(w*prec + rec)\n",
      "/usr/local/lib/python3.8/dist-packages/sklearn/metrics/_classification.py:1248: UndefinedMetricWarning: Precision is ill-defined and being set to 0.0 due to no predicted samples. Use `zero_division` parameter to control this behavior.\n",
      "  _warn_prf(average, modifier, msg_start, len(result))\n",
      "/home/surajrai1900/iwcd_gbdt/train_test_tree.py:166: RuntimeWarning: invalid value encountered in double_scalars\n",
      "  mod_f1 = (1+w)*(prec*rec)/(w*prec + rec)\n",
      "/usr/local/lib/python3.8/dist-packages/sklearn/metrics/_classification.py:1248: UndefinedMetricWarning: Precision is ill-defined and being set to 0.0 due to no predicted samples. Use `zero_division` parameter to control this behavior.\n",
      "  _warn_prf(average, modifier, msg_start, len(result))\n",
      "/home/surajrai1900/iwcd_gbdt/train_test_tree.py:166: RuntimeWarning: invalid value encountered in double_scalars\n",
      "  mod_f1 = (1+w)*(prec*rec)/(w*prec + rec)\n",
      "/usr/local/lib/python3.8/dist-packages/sklearn/metrics/_classification.py:1248: UndefinedMetricWarning: Precision is ill-defined and being set to 0.0 due to no predicted samples. Use `zero_division` parameter to control this behavior.\n",
      "  _warn_prf(average, modifier, msg_start, len(result))\n",
      "/home/surajrai1900/iwcd_gbdt/train_test_tree.py:166: RuntimeWarning: invalid value encountered in double_scalars\n",
      "  mod_f1 = (1+w)*(prec*rec)/(w*prec + rec)\n",
      "/usr/local/lib/python3.8/dist-packages/sklearn/metrics/_classification.py:1248: UndefinedMetricWarning: Precision is ill-defined and being set to 0.0 due to no predicted samples. Use `zero_division` parameter to control this behavior.\n",
      "  _warn_prf(average, modifier, msg_start, len(result))\n",
      "/home/surajrai1900/iwcd_gbdt/train_test_tree.py:166: RuntimeWarning: invalid value encountered in double_scalars\n",
      "  mod_f1 = (1+w)*(prec*rec)/(w*prec + rec)\n"
     ]
    }
   ],
   "source": [
    "test_f1, prec, rec = model.test()"
   ]
  },
  {
   "cell_type": "code",
   "execution_count": 48,
   "id": "d881ecca",
   "metadata": {},
   "outputs": [
    {
     "name": "stdout",
     "output_type": "stream",
     "text": [
      "0.27044556224972416 0.24419061517736865 0.5848625394904887\n"
     ]
    }
   ],
   "source": [
    "print(test_f1, prec, rec)"
   ]
  },
  {
   "cell_type": "code",
   "execution_count": 49,
   "id": "b04aed06",
   "metadata": {},
   "outputs": [
    {
     "name": "stdout",
     "output_type": "stream",
     "text": [
      "{'h5_momentum': 0.37767102821139986, 'h5_towall': 0.5889139087076197, 'h5_dwall': 0.019589618791610322, 'h5_reco_mom_pi0': 0.0, 'h5_vetos': 0.013825444289370197}\n"
     ]
    }
   ],
   "source": [
    "feature_imp = model.get_features_importances()\n",
    "print(feature_imp)"
   ]
  },
  {
   "cell_type": "code",
   "execution_count": 50,
   "id": "c257a8a1",
   "metadata": {
    "scrolled": false
   },
   "outputs": [
    {
     "data": {
      "image/png": "[encoded data removed]",
      "text/plain": [
       "<Figure size 640x480 with 1 Axes>"
      ]
     },
     "metadata": {},
     "output_type": "display_data"
    },
    {
     "name": "stderr",
     "output_type": "stream",
     "text": [
      "/usr/local/lib/python3.8/dist-packages/sklearn/metrics/_classification.py:1248: UndefinedMetricWarning: Precision is ill-defined and being set to 0.0 due to no predicted samples. Use `zero_division` parameter to control this behavior.\n",
      "  _warn_prf(average, modifier, msg_start, len(result))\n",
      "/home/surajrai1900/iwcd_gbdt/train_test_tree.py:166: RuntimeWarning: invalid value encountered in double_scalars\n",
      "  mod_f1 = (1+w)*(prec*rec)/(w*prec + rec)\n",
      "/usr/local/lib/python3.8/dist-packages/sklearn/metrics/_classification.py:1248: UndefinedMetricWarning: Precision is ill-defined and being set to 0.0 due to no predicted samples. Use `zero_division` parameter to control this behavior.\n",
      "  _warn_prf(average, modifier, msg_start, len(result))\n",
      "/home/surajrai1900/iwcd_gbdt/train_test_tree.py:166: RuntimeWarning: invalid value encountered in double_scalars\n",
      "  mod_f1 = (1+w)*(prec*rec)/(w*prec + rec)\n",
      "/usr/local/lib/python3.8/dist-packages/sklearn/metrics/_classification.py:1248: UndefinedMetricWarning: Precision is ill-defined and being set to 0.0 due to no predicted samples. Use `zero_division` parameter to control this behavior.\n",
      "  _warn_prf(average, modifier, msg_start, len(result))\n",
      "/home/surajrai1900/iwcd_gbdt/train_test_tree.py:166: RuntimeWarning: invalid value encountered in double_scalars\n",
      "  mod_f1 = (1+w)*(prec*rec)/(w*prec + rec)\n",
      "/usr/local/lib/python3.8/dist-packages/sklearn/metrics/_classification.py:1248: UndefinedMetricWarning: Precision is ill-defined and being set to 0.0 due to no predicted samples. Use `zero_division` parameter to control this behavior.\n",
      "  _warn_prf(average, modifier, msg_start, len(result))\n",
      "/home/surajrai1900/iwcd_gbdt/train_test_tree.py:166: RuntimeWarning: invalid value encountered in double_scalars\n",
      "  mod_f1 = (1+w)*(prec*rec)/(w*prec + rec)\n",
      "/usr/local/lib/python3.8/dist-packages/sklearn/metrics/_classification.py:1248: UndefinedMetricWarning: Precision is ill-defined and being set to 0.0 due to no predicted samples. Use `zero_division` parameter to control this behavior.\n",
      "  _warn_prf(average, modifier, msg_start, len(result))\n",
      "/home/surajrai1900/iwcd_gbdt/train_test_tree.py:166: RuntimeWarning: invalid value encountered in double_scalars\n",
      "  mod_f1 = (1+w)*(prec*rec)/(w*prec + rec)\n",
      "/usr/local/lib/python3.8/dist-packages/sklearn/metrics/_classification.py:1248: UndefinedMetricWarning: Precision is ill-defined and being set to 0.0 due to no predicted samples. Use `zero_division` parameter to control this behavior.\n",
      "  _warn_prf(average, modifier, msg_start, len(result))\n",
      "/home/surajrai1900/iwcd_gbdt/train_test_tree.py:166: RuntimeWarning: invalid value encountered in double_scalars\n",
      "  mod_f1 = (1+w)*(prec*rec)/(w*prec + rec)\n",
      "/usr/local/lib/python3.8/dist-packages/sklearn/metrics/_classification.py:1248: UndefinedMetricWarning: Precision is ill-defined and being set to 0.0 due to no predicted samples. Use `zero_division` parameter to control this behavior.\n",
      "  _warn_prf(average, modifier, msg_start, len(result))\n",
      "/home/surajrai1900/iwcd_gbdt/train_test_tree.py:166: RuntimeWarning: invalid value encountered in double_scalars\n",
      "  mod_f1 = (1+w)*(prec*rec)/(w*prec + rec)\n",
      "/usr/local/lib/python3.8/dist-packages/sklearn/metrics/_classification.py:1248: UndefinedMetricWarning: Precision is ill-defined and being set to 0.0 due to no predicted samples. Use `zero_division` parameter to control this behavior.\n",
      "  _warn_prf(average, modifier, msg_start, len(result))\n",
      "/home/surajrai1900/iwcd_gbdt/train_test_tree.py:166: RuntimeWarning: invalid value encountered in double_scalars\n",
      "  mod_f1 = (1+w)*(prec*rec)/(w*prec + rec)\n",
      "/usr/local/lib/python3.8/dist-packages/sklearn/metrics/_classification.py:1248: UndefinedMetricWarning: Precision is ill-defined and being set to 0.0 due to no predicted samples. Use `zero_division` parameter to control this behavior.\n",
      "  _warn_prf(average, modifier, msg_start, len(result))\n",
      "/home/surajrai1900/iwcd_gbdt/train_test_tree.py:166: RuntimeWarning: invalid value encountered in double_scalars\n",
      "  mod_f1 = (1+w)*(prec*rec)/(w*prec + rec)\n",
      "/usr/local/lib/python3.8/dist-packages/sklearn/metrics/_classification.py:1248: UndefinedMetricWarning: Precision is ill-defined and being set to 0.0 due to no predicted samples. Use `zero_division` parameter to control this behavior.\n",
      "  _warn_prf(average, modifier, msg_start, len(result))\n",
      "/home/surajrai1900/iwcd_gbdt/train_test_tree.py:166: RuntimeWarning: invalid value encountered in double_scalars\n",
      "  mod_f1 = (1+w)*(prec*rec)/(w*prec + rec)\n",
      "/usr/local/lib/python3.8/dist-packages/sklearn/metrics/_classification.py:1248: UndefinedMetricWarning: Precision is ill-defined and being set to 0.0 due to no predicted samples. Use `zero_division` parameter to control this behavior.\n",
      "  _warn_prf(average, modifier, msg_start, len(result))\n",
      "/home/surajrai1900/iwcd_gbdt/train_test_tree.py:166: RuntimeWarning: invalid value encountered in double_scalars\n",
      "  mod_f1 = (1+w)*(prec*rec)/(w*prec + rec)\n",
      "/usr/local/lib/python3.8/dist-packages/sklearn/metrics/_classification.py:1248: UndefinedMetricWarning: Precision is ill-defined and being set to 0.0 due to no predicted samples. Use `zero_division` parameter to control this behavior.\n",
      "  _warn_prf(average, modifier, msg_start, len(result))\n",
      "/home/surajrai1900/iwcd_gbdt/train_test_tree.py:166: RuntimeWarning: invalid value encountered in double_scalars\n",
      "  mod_f1 = (1+w)*(prec*rec)/(w*prec + rec)\n",
      "/usr/local/lib/python3.8/dist-packages/sklearn/metrics/_classification.py:1248: UndefinedMetricWarning: Precision is ill-defined and being set to 0.0 due to no predicted samples. Use `zero_division` parameter to control this behavior.\n",
      "  _warn_prf(average, modifier, msg_start, len(result))\n",
      "/home/surajrai1900/iwcd_gbdt/train_test_tree.py:166: RuntimeWarning: invalid value encountered in double_scalars\n",
      "  mod_f1 = (1+w)*(prec*rec)/(w*prec + rec)\n",
      "/usr/local/lib/python3.8/dist-packages/sklearn/metrics/_classification.py:1248: UndefinedMetricWarning: Precision is ill-defined and being set to 0.0 due to no predicted samples. Use `zero_division` parameter to control this behavior.\n",
      "  _warn_prf(average, modifier, msg_start, len(result))\n",
      "/home/surajrai1900/iwcd_gbdt/train_test_tree.py:166: RuntimeWarning: invalid value encountered in double_scalars\n",
      "  mod_f1 = (1+w)*(prec*rec)/(w*prec + rec)\n",
      "/usr/local/lib/python3.8/dist-packages/sklearn/metrics/_classification.py:1248: UndefinedMetricWarning: Precision is ill-defined and being set to 0.0 due to no predicted samples. Use `zero_division` parameter to control this behavior.\n",
      "  _warn_prf(average, modifier, msg_start, len(result))\n",
      "/home/surajrai1900/iwcd_gbdt/train_test_tree.py:166: RuntimeWarning: invalid value encountered in double_scalars\n",
      "  mod_f1 = (1+w)*(prec*rec)/(w*prec + rec)\n",
      "/usr/local/lib/python3.8/dist-packages/sklearn/metrics/_classification.py:1248: UndefinedMetricWarning: Precision is ill-defined and being set to 0.0 due to no predicted samples. Use `zero_division` parameter to control this behavior.\n",
      "  _warn_prf(average, modifier, msg_start, len(result))\n",
      "/home/surajrai1900/iwcd_gbdt/train_test_tree.py:166: RuntimeWarning: invalid value encountered in double_scalars\n",
      "  mod_f1 = (1+w)*(prec*rec)/(w*prec + rec)\n",
      "/usr/local/lib/python3.8/dist-packages/sklearn/metrics/_classification.py:1248: UndefinedMetricWarning: Precision is ill-defined and being set to 0.0 due to no predicted samples. Use `zero_division` parameter to control this behavior.\n",
      "  _warn_prf(average, modifier, msg_start, len(result))\n",
      "/home/surajrai1900/iwcd_gbdt/train_test_tree.py:166: RuntimeWarning: invalid value encountered in double_scalars\n",
      "  mod_f1 = (1+w)*(prec*rec)/(w*prec + rec)\n",
      "/usr/local/lib/python3.8/dist-packages/sklearn/metrics/_classification.py:1248: UndefinedMetricWarning: Precision is ill-defined and being set to 0.0 due to no predicted samples. Use `zero_division` parameter to control this behavior.\n",
      "  _warn_prf(average, modifier, msg_start, len(result))\n",
      "/home/surajrai1900/iwcd_gbdt/train_test_tree.py:166: RuntimeWarning: invalid value encountered in double_scalars\n",
      "  mod_f1 = (1+w)*(prec*rec)/(w*prec + rec)\n",
      "/usr/local/lib/python3.8/dist-packages/sklearn/metrics/_classification.py:1248: UndefinedMetricWarning: Precision is ill-defined and being set to 0.0 due to no predicted samples. Use `zero_division` parameter to control this behavior.\n",
      "  _warn_prf(average, modifier, msg_start, len(result))\n",
      "/home/surajrai1900/iwcd_gbdt/train_test_tree.py:166: RuntimeWarning: invalid value encountered in double_scalars\n",
      "  mod_f1 = (1+w)*(prec*rec)/(w*prec + rec)\n",
      "/usr/local/lib/python3.8/dist-packages/sklearn/metrics/_classification.py:1248: UndefinedMetricWarning: Precision is ill-defined and being set to 0.0 due to no predicted samples. Use `zero_division` parameter to control this behavior.\n",
      "  _warn_prf(average, modifier, msg_start, len(result))\n",
      "/home/surajrai1900/iwcd_gbdt/train_test_tree.py:166: RuntimeWarning: invalid value encountered in double_scalars\n",
      "  mod_f1 = (1+w)*(prec*rec)/(w*prec + rec)\n"
     ]
    },
    {
     "data": {
      "text/plain": [
       "(nan, 0.0, 0.0)"
      ]
     },
     "execution_count": 50,
     "metadata": {},
     "output_type": "execute_result"
    }
   ],
   "source": [
    "model.test_on_train()"
   ]
  },
  {
   "cell_type": "code",
   "execution_count": 51,
   "id": "3dd6b39a",
   "metadata": {},
   "outputs": [
    {
     "data": {
      "text/plain": [
       "0.15384615384615385"
      ]
     },
     "execution_count": 51,
     "metadata": {},
     "output_type": "execute_result"
    }
   ],
   "source": [
    "model.best_thresh"
   ]
  },
  {
   "cell_type": "code",
   "execution_count": 52,
   "id": "424db48a",
   "metadata": {
    "scrolled": true
   },
   "outputs": [
    {
     "data": {
      "text/plain": [
       "array([[ 5.09911024e-01, -1.09747498e+00, -1.12828298e+00,\n",
       "        -1.59641090e-03, -4.22917022e-01],\n",
       "       [-4.91110770e-01,  1.46136491e+00,  1.07461292e+00,\n",
       "        -1.59615953e-03, -4.22917022e-01],\n",
       "       [ 1.25702770e+00,  1.44802057e-01,  1.10204988e+00,\n",
       "        -1.59484151e-03, -4.22917022e-01],\n",
       "       ...,\n",
       "       [ 4.65553396e-01, -1.11193248e+00, -4.76972597e-01,\n",
       "        -1.59711354e-03, -4.22917022e-01],\n",
       "       [ 4.07167917e-01, -1.34797251e+00, -8.84852412e-01,\n",
       "        -1.59708899e-03,  2.36453003e+00],\n",
       "       [ 3.91871580e-01, -5.98139289e-01, -4.93369807e-02,\n",
       "        -1.59600958e-03, -4.22917022e-01]])"
      ]
     },
     "execution_count": 52,
     "metadata": {},
     "output_type": "execute_result"
    }
   ],
   "source": [
    "model.X_test_scaled"
   ]
  },
  {
   "cell_type": "code",
   "execution_count": 53,
   "id": "5b476362",
   "metadata": {},
   "outputs": [
    {
     "data": {
      "text/plain": [
       "29754"
      ]
     },
     "execution_count": 53,
     "metadata": {},
     "output_type": "execute_result"
    }
   ],
   "source": [
    "sum(model.y_test)"
   ]
  }
 ],
 "metadata": {
  "kernelspec": {
   "display_name": "Python 3 (ipykernel)",
   "language": "python",
   "name": "python3"
  },
  "language_info": {
   "codemirror_mode": {
    "name": "ipython",
    "version": 3
   },
   "file_extension": ".py",
   "mimetype": "text/x-python",
   "name": "python",
   "nbconvert_exporter": "python",
   "pygments_lexer": "ipython3",
   "version": "3.8.10"
  }
 },
 "nbformat": 4,
 "nbformat_minor": 5
}
