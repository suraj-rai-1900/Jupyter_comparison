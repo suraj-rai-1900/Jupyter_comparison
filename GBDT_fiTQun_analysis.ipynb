{
 "cells": [
  {
   "cell_type": "code",
   "execution_count": 1,
   "id": "a1289969",
   "metadata": {},
   "outputs": [],
   "source": [
    "import numpy as np\n",
    "import matplotlib.pyplot as plt\n",
    "import pandas as pd\n",
    "import uproot\n",
    "import sys\n",
    "import h5py"
   ]
  },
  {
   "cell_type": "code",
   "execution_count": 2,
   "id": "263f86d8",
   "metadata": {},
   "outputs": [],
   "source": [
    "sys.path.append('/home/surajrai1900/iwcd_gbdt')\n",
    "sys.path.append('/home/surajrai1900/WatChMaL')"
   ]
  },
  {
   "cell_type": "code",
   "execution_count": 3,
   "id": "fc13f19b",
   "metadata": {},
   "outputs": [
    {
     "name": "stdout",
     "output_type": "stream",
     "text": [
      "Imported analysis code from WatChMaL repository with git version: 0ed2fbb-dirty\n"
     ]
    },
    {
     "name": "stderr",
     "output_type": "stream",
     "text": [
      "/home/surajrai1900/WatChMaL/analysis/__init__.py:4: UserWarning: WARNING: The git repository has uncommitted changes. Please commit changes before running WatChMaL code for proper version control\n",
      "  print(f\"Imported analysis code from WatChMaL repository with git version: {get_git_version(os.path.dirname(__file__))}\")\n"
     ]
    }
   ],
   "source": [
    "import bdt_analysis\n",
    "import train_test_tree\n",
    "import utils\n",
    "import analysis.utils.math as math\n",
    "from analysis.read import FiTQunOutput\n",
    "import analysis.utils.binning as bins"
   ]
  },
  {
   "cell_type": "code",
   "execution_count": 4,
   "id": "efff518e",
   "metadata": {},
   "outputs": [],
   "source": [
    "idxs_path = '/home/pdeperio/machine_learning/data/IWCD_mPMT_Short/index_lists/4class_e_mu_gamma_pi0/IWCD_mPMT_Short_4_class_3M_emgp0_idxs.npz'\n",
    "test_idxs  =  np.load(idxs_path, allow_pickle=True)['test_idxs']\n",
    "data_path = \"/home/pdeperio/machine_learning/data/IWCD_mPMT_Short/IWCD_mPMT_Short_emgp0_E0to1000MeV_digihits.h5\"\n",
    "h5_file = h5py.File(data_path, \"r\")"
   ]
  },
  {
   "cell_type": "code",
   "execution_count": 5,
   "id": "8e3728d0",
   "metadata": {},
   "outputs": [],
   "source": [
    "h5_angles     = np.array(h5_file['angles'])[test_idxs].squeeze()\n",
    "h5_energies   = np.array(h5_file['energies'])[test_idxs].squeeze()\n",
    "h5_positions  = np.array(h5_file['positions'])[test_idxs].squeeze()\n",
    "h5_labels     = np.array(h5_file['labels'])[test_idxs].squeeze()\n",
    "h5_root_files = np.array(h5_file['root_files'])[test_idxs].squeeze()\n",
    "h5_event_ids  = np.array(h5_file['event_ids'])[test_idxs].squeeze()\n",
    "h5_vetos      = np.array(h5_file['veto'])[test_idxs].squeeze()\n",
    "events_hits_index = np.append(h5_file['event_hits_index'], h5_file['hit_pmt'].shape[0])\n",
    "h5_nhits      = (events_hits_index[test_idxs+1] - events_hits_index[test_idxs]).squeeze()"
   ]
  },
  {
   "cell_type": "code",
   "execution_count": 6,
   "id": "9d84ab3a",
   "metadata": {},
   "outputs": [],
   "source": [
    "# create dictionary with keys of the unique root_files\n",
    "root_file_index = dict.fromkeys(h5_root_files)\n",
    "# update the values so each root file key has a value from 0 to the number of files\n",
    "root_file_index.update((k, i) for i, k in enumerate(root_file_index))\n",
    "# create array of root_file_indices of each event in the h5_root_files array\n",
    "root_file_indices = np.vectorize(root_file_index.__getitem__)(h5_root_files)\n",
    "# create the array of offsets from the root_file_indices and the h5_event_ids\n",
    "h5_fq_offsets = 3000*root_file_indices + h5_event_ids"
   ]
  },
  {
   "cell_type": "code",
   "execution_count": 7,
   "id": "8d181953",
   "metadata": {},
   "outputs": [],
   "source": [
    "file_path = '/home/pdeperio/machine_learning/data/IWCD_mPMT_Short/fiTQun/'\n",
    "labels = ['gamma', 'e-', 'mu-', 'pi0']\n",
    "labels_index = [0, 1, 2, 3]\n",
    "fq_files = [file_path + f'IWCD_mPMT_Short_{i}_E0to1000MeV_unif-pos-R400-y300cm_4pi-dir.fiTQun.root' for i in labels]"
   ]
  },
  {
   "cell_type": "code",
   "execution_count": 8,
   "id": "892b6e35",
   "metadata": {},
   "outputs": [],
   "source": [
    "fq = FiTQunOutput(fq_files)"
   ]
  },
  {
   "cell_type": "code",
   "execution_count": 9,
   "id": "4fa4a33f",
   "metadata": {},
   "outputs": [
    {
     "name": "stderr",
     "output_type": "stream",
     "text": [
      "/home/surajrai1900/WatChMaL/analysis/utils/math.py:41: RuntimeWarning: invalid value encountered in sqrt\n",
      "  towall_barrel = (-b + np.sqrt(b**2-a*c)) / a\n",
      "/home/surajrai1900/WatChMaL/analysis/utils/math.py:41: RuntimeWarning: invalid value encountered in true_divide\n",
      "  towall_barrel = (-b + np.sqrt(b**2-a*c)) / a\n"
     ]
    }
   ],
   "source": [
    "reco_e_pos = np.array(fq.electron_position)\n",
    "reco_mu_pos = np.array(fq.muon_position)\n",
    "reco_pi0_pos = np.array(fq.pi0_position)\n",
    "\n",
    "reco_e_angles = math.angles_from_direction(np.array(fq.electron_direction))\n",
    "reco_mu_angles = math.angles_from_direction(np.array(fq.muon_direction))\n",
    "reco_pi0_angles = math.angles_from_direction(np.array(fq.pi0_direction))\n",
    "\n",
    "reco_e_dwall = math.dwall(reco_e_pos)\n",
    "reco_mu_dwall = math.dwall(reco_mu_pos)\n",
    "reco_pi0_dwall = math.dwall(reco_pi0_pos)\n",
    "\n",
    "reco_e_towall = math.towall(reco_e_pos, reco_e_angles)\n",
    "reco_mu_towall = math.towall(reco_mu_pos, reco_mu_angles)\n",
    "reco_pi0_towall = math.towall(reco_pi0_pos, reco_pi0_angles)\n"
   ]
  },
  {
   "cell_type": "code",
   "execution_count": 10,
   "id": "db97d055",
   "metadata": {},
   "outputs": [],
   "source": [
    "def combine(values):\n",
    "    events = values.sum(axis = 0)\n",
    "    return events.astype(bool)"
   ]
  },
  {
   "cell_type": "code",
   "execution_count": 11,
   "id": "d5d4dae3",
   "metadata": {},
   "outputs": [],
   "source": [
    "h5_reco_mom_e = np.array(fq.electron_momentum[h5_fq_offsets])\n",
    "h5_reco_mom_mu = np.array(fq.muon_momentum[h5_fq_offsets])\n",
    "h5_reco_mom_pi0 = np.array(fq.pi0_momentum[h5_fq_offsets])\n",
    "\n",
    "h5_momentum   =  math.momentum_from_energy(h5_energies, h5_labels)\n",
    "h5_towall = math.towall(h5_positions, h5_angles)\n",
    "h5_dwall = math.dwall(h5_positions)\n",
    "\n",
    "h5_vetos      = np.array(h5_file['veto'])[test_idxs].squeeze()\n",
    "\n",
    "h5_reco_e_dwall = reco_e_dwall[h5_fq_offsets]\n",
    "h5_reco_mu_dwall = reco_mu_dwall[h5_fq_offsets]\n",
    "h5_reco_pi0_dwall = reco_pi0_dwall[h5_fq_offsets]\n",
    "\n",
    "h5_reco_e_towall = reco_e_towall[h5_fq_offsets]\n",
    "h5_reco_mu_towall = reco_mu_towall[h5_fq_offsets]\n",
    "h5_reco_pi0_towall = reco_pi0_towall[h5_fq_offsets]\n"
   ]
  },
  {
   "cell_type": "code",
   "execution_count": 12,
   "id": "4f92e036",
   "metadata": {},
   "outputs": [],
   "source": [
    "bins_e_mom = bins.get_binning(h5_reco_mom_e[h5_labels == 1], bins = 100, minimum = 0, maximum = 2000)\n",
    "bins_indices_reco_e = bins_e_mom[1]\n",
    "bins_e_true_mom = bins.get_binning(h5_momentum[h5_labels == 1], bins = 100, minimum = 0, maximum = 2000)\n",
    "bins_indices_true_e = bins_e_true_mom[1]\n",
    "\n",
    "bins_mu_mom = bins.get_binning(h5_reco_mom_mu[h5_labels == 2], bins = 100, minimum = 0, maximum = 2000)\n",
    "bins_indices_reco_mu = bins_mu_mom[1]\n",
    "bins_mu_true_mom = bins.get_binning(h5_momentum[h5_labels == 2], bins = 100, minimum = 0, maximum = 2000)\n",
    "bins_indices_true_mu = bins_mu_true_mom[1]\n",
    "\n",
    "bins_pi0_mom = bins.get_binning(h5_reco_mom_pi0[h5_labels == 3], bins = 100, minimum = 0, maximum = 2000)\n",
    "bins_indices_reco_pi0 = bins_pi0_mom[1]\n",
    "bins_pi0_true_mom = bins.get_binning(h5_momentum[h5_labels == 3], bins = 100, minimum = 0, maximum = 2000)\n",
    "bins_indices_true_pi0 = bins_pi0_true_mom[1]"
   ]
  },
  {
   "cell_type": "code",
   "execution_count": 13,
   "id": "c52d4ec5",
   "metadata": {},
   "outputs": [],
   "source": [
    "diagonal_cut_e = np.array([((bins_indices_reco_e == i) & (bins_indices_true_e == i)) for i in range(1, 102)])\n",
    "diagonal_cut_mu = np.array([((bins_indices_reco_mu == i) & (bins_indices_true_mu == i)) for i in range(1, 102)])\n",
    "diagonal_cut_pi0 = np.array([((bins_indices_reco_pi0 == i) & (bins_indices_true_pi0 == i)) for i in range(1, 102)])\n",
    "\n",
    "diagonal_e = combine(diagonal_cut_e)\n",
    "diagonal_mu = combine(diagonal_cut_mu)\n",
    "diagonal_pi0 = combine(diagonal_cut_pi0)\n",
    "diagonal_gamma = h5_labels[h5_labels == 0]"
   ]
  },
  {
   "cell_type": "code",
   "execution_count": 14,
   "id": "f4291505",
   "metadata": {},
   "outputs": [],
   "source": [
    "diagonal_cut = np.concatenate([diagonal_gamma, diagonal_e, diagonal_mu, diagonal_pi0])"
   ]
  },
  {
   "cell_type": "code",
   "execution_count": 15,
   "id": "910f0d26",
   "metadata": {},
   "outputs": [],
   "source": [
    "def df_pandas(index):    \n",
    "    dict_vals = {}\n",
    "    dict_vals['h5_momentum'] = h5_momentum[h5_labels == index]\n",
    "    dict_vals['h5_towall'] = h5_towall[h5_labels == index]\n",
    "    dict_vals['h5_dwall'] = h5_dwall[h5_labels == index]\n",
    "    dict_vals['h5_reco_mom_e'] = h5_reco_mom_e[h5_labels == index]\n",
    "    dict_vals['h5_reco_mom_mu'] = h5_reco_mom_mu[h5_labels == index]\n",
    "    dict_vals['h5_reco_mom_pi0'] = h5_reco_mom_pi0[h5_labels == index]\n",
    "    dict_vals['h5_reco_e_dwall'] = h5_reco_e_dwall[h5_labels == index]\n",
    "    dict_vals['h5_reco_mu_dwall'] = h5_reco_mu_dwall[h5_labels == index]\n",
    "    dict_vals['h5_reco_pi0_dwall'] = h5_reco_pi0_dwall[h5_labels == index]\n",
    "    dict_vals['h5_reco_e_towall'] = h5_reco_e_towall[h5_labels == index]\n",
    "    dict_vals['h5_reco_mu_towall'] = h5_reco_mu_towall[h5_labels == index]\n",
    "    dict_vals['h5_reco_pi0_dwall'] = h5_reco_pi0_towall[h5_labels == index]\n",
    "    dict_vals['h5_vetos'] = h5_vetos[h5_labels == index]\n",
    "    dict_vals['sig'] = diagonal_cut[h5_labels == index]\n",
    "\n",
    "    df = pd.DataFrame(dict_vals)\n",
    "    return df"
   ]
  },
  {
   "cell_type": "code",
   "execution_count": 16,
   "id": "1ceba2d9",
   "metadata": {},
   "outputs": [
    {
     "data": {
      "text/html": [
       "<div>\n",
       "<style scoped>\n",
       "    .dataframe tbody tr th:only-of-type {\n",
       "        vertical-align: middle;\n",
       "    }\n",
       "\n",
       "    .dataframe tbody tr th {\n",
       "        vertical-align: top;\n",
       "    }\n",
       "\n",
       "    .dataframe thead th {\n",
       "        text-align: right;\n",
       "    }\n",
       "</style>\n",
       "<table border=\"1\" class=\"dataframe\">\n",
       "  <thead>\n",
       "    <tr style=\"text-align: right;\">\n",
       "      <th></th>\n",
       "      <th>h5_momentum</th>\n",
       "      <th>h5_towall</th>\n",
       "      <th>h5_dwall</th>\n",
       "      <th>h5_reco_mom_e</th>\n",
       "      <th>h5_reco_mom_mu</th>\n",
       "      <th>h5_reco_mom_pi0</th>\n",
       "      <th>h5_reco_e_dwall</th>\n",
       "      <th>h5_reco_mu_dwall</th>\n",
       "      <th>h5_reco_pi0_dwall</th>\n",
       "      <th>h5_reco_e_towall</th>\n",
       "      <th>h5_reco_mu_towall</th>\n",
       "      <th>h5_vetos</th>\n",
       "      <th>sig</th>\n",
       "    </tr>\n",
       "  </thead>\n",
       "  <tbody>\n",
       "    <tr>\n",
       "      <th>0</th>\n",
       "      <td>245.001085</td>\n",
       "      <td>190.761574</td>\n",
       "      <td>64.608521</td>\n",
       "      <td>206.956848</td>\n",
       "      <td>404.032379</td>\n",
       "      <td>174.225952</td>\n",
       "      <td>78.522018</td>\n",
       "      <td>81.258606</td>\n",
       "      <td>222.422247</td>\n",
       "      <td>180.486992</td>\n",
       "      <td>138.650068</td>\n",
       "      <td>False</td>\n",
       "      <td>0</td>\n",
       "    </tr>\n",
       "    <tr>\n",
       "      <th>1</th>\n",
       "      <td>855.768398</td>\n",
       "      <td>337.385819</td>\n",
       "      <td>67.418274</td>\n",
       "      <td>842.675598</td>\n",
       "      <td>953.902283</td>\n",
       "      <td>852.125244</td>\n",
       "      <td>75.189301</td>\n",
       "      <td>68.652374</td>\n",
       "      <td>365.440257</td>\n",
       "      <td>348.900632</td>\n",
       "      <td>395.226697</td>\n",
       "      <td>False</td>\n",
       "      <td>1</td>\n",
       "    </tr>\n",
       "    <tr>\n",
       "      <th>2</th>\n",
       "      <td>597.023336</td>\n",
       "      <td>138.040446</td>\n",
       "      <td>60.461700</td>\n",
       "      <td>233.178909</td>\n",
       "      <td>515.416809</td>\n",
       "      <td>256.429962</td>\n",
       "      <td>77.010956</td>\n",
       "      <td>82.076202</td>\n",
       "      <td>212.642671</td>\n",
       "      <td>151.587330</td>\n",
       "      <td>162.264948</td>\n",
       "      <td>False</td>\n",
       "      <td>0</td>\n",
       "    </tr>\n",
       "    <tr>\n",
       "      <th>3</th>\n",
       "      <td>402.785832</td>\n",
       "      <td>251.795181</td>\n",
       "      <td>176.367126</td>\n",
       "      <td>382.876282</td>\n",
       "      <td>717.984741</td>\n",
       "      <td>380.084259</td>\n",
       "      <td>176.663071</td>\n",
       "      <td>186.916916</td>\n",
       "      <td>302.117004</td>\n",
       "      <td>251.733536</td>\n",
       "      <td>269.217957</td>\n",
       "      <td>False</td>\n",
       "      <td>0</td>\n",
       "    </tr>\n",
       "    <tr>\n",
       "      <th>4</th>\n",
       "      <td>830.345780</td>\n",
       "      <td>267.159357</td>\n",
       "      <td>187.088364</td>\n",
       "      <td>906.258545</td>\n",
       "      <td>947.274719</td>\n",
       "      <td>896.135437</td>\n",
       "      <td>188.501816</td>\n",
       "      <td>171.798233</td>\n",
       "      <td>326.528673</td>\n",
       "      <td>259.277523</td>\n",
       "      <td>372.559954</td>\n",
       "      <td>False</td>\n",
       "      <td>0</td>\n",
       "    </tr>\n",
       "    <tr>\n",
       "      <th>...</th>\n",
       "      <td>...</td>\n",
       "      <td>...</td>\n",
       "      <td>...</td>\n",
       "      <td>...</td>\n",
       "      <td>...</td>\n",
       "      <td>...</td>\n",
       "      <td>...</td>\n",
       "      <td>...</td>\n",
       "      <td>...</td>\n",
       "      <td>...</td>\n",
       "      <td>...</td>\n",
       "      <td>...</td>\n",
       "      <td>...</td>\n",
       "    </tr>\n",
       "    <tr>\n",
       "      <th>1177961</th>\n",
       "      <td>233.741478</td>\n",
       "      <td>286.318447</td>\n",
       "      <td>90.949417</td>\n",
       "      <td>246.317719</td>\n",
       "      <td>473.530609</td>\n",
       "      <td>251.694260</td>\n",
       "      <td>88.268677</td>\n",
       "      <td>84.020935</td>\n",
       "      <td>319.846876</td>\n",
       "      <td>302.831977</td>\n",
       "      <td>341.878165</td>\n",
       "      <td>False</td>\n",
       "      <td>0</td>\n",
       "    </tr>\n",
       "    <tr>\n",
       "      <th>1177962</th>\n",
       "      <td>76.400138</td>\n",
       "      <td>47.735718</td>\n",
       "      <td>42.352966</td>\n",
       "      <td>47.053440</td>\n",
       "      <td>224.656464</td>\n",
       "      <td>89.081116</td>\n",
       "      <td>28.691895</td>\n",
       "      <td>31.922180</td>\n",
       "      <td>78.648987</td>\n",
       "      <td>36.108917</td>\n",
       "      <td>39.931274</td>\n",
       "      <td>False</td>\n",
       "      <td>0</td>\n",
       "    </tr>\n",
       "    <tr>\n",
       "      <th>1177963</th>\n",
       "      <td>966.660871</td>\n",
       "      <td>276.619362</td>\n",
       "      <td>164.137390</td>\n",
       "      <td>1060.800903</td>\n",
       "      <td>1395.338989</td>\n",
       "      <td>1042.614746</td>\n",
       "      <td>176.220901</td>\n",
       "      <td>167.305939</td>\n",
       "      <td>335.428702</td>\n",
       "      <td>291.237657</td>\n",
       "      <td>422.852404</td>\n",
       "      <td>False</td>\n",
       "      <td>0</td>\n",
       "    </tr>\n",
       "    <tr>\n",
       "      <th>1177964</th>\n",
       "      <td>776.515447</td>\n",
       "      <td>475.442017</td>\n",
       "      <td>36.961853</td>\n",
       "      <td>776.103271</td>\n",
       "      <td>827.683777</td>\n",
       "      <td>781.927734</td>\n",
       "      <td>49.248810</td>\n",
       "      <td>45.450897</td>\n",
       "      <td>497.667969</td>\n",
       "      <td>475.733521</td>\n",
       "      <td>507.673065</td>\n",
       "      <td>False</td>\n",
       "      <td>1</td>\n",
       "    </tr>\n",
       "    <tr>\n",
       "      <th>1177965</th>\n",
       "      <td>868.010182</td>\n",
       "      <td>144.441529</td>\n",
       "      <td>16.280975</td>\n",
       "      <td>660.824036</td>\n",
       "      <td>875.992615</td>\n",
       "      <td>921.807312</td>\n",
       "      <td>7.976654</td>\n",
       "      <td>27.445374</td>\n",
       "      <td>189.206639</td>\n",
       "      <td>137.510764</td>\n",
       "      <td>205.556791</td>\n",
       "      <td>False</td>\n",
       "      <td>0</td>\n",
       "    </tr>\n",
       "  </tbody>\n",
       "</table>\n",
       "<p>1177966 rows × 13 columns</p>\n",
       "</div>"
      ],
      "text/plain": [
       "         h5_momentum   h5_towall    h5_dwall  h5_reco_mom_e  h5_reco_mom_mu  \\\n",
       "0         245.001085  190.761574   64.608521     206.956848      404.032379   \n",
       "1         855.768398  337.385819   67.418274     842.675598      953.902283   \n",
       "2         597.023336  138.040446   60.461700     233.178909      515.416809   \n",
       "3         402.785832  251.795181  176.367126     382.876282      717.984741   \n",
       "4         830.345780  267.159357  187.088364     906.258545      947.274719   \n",
       "...              ...         ...         ...            ...             ...   \n",
       "1177961   233.741478  286.318447   90.949417     246.317719      473.530609   \n",
       "1177962    76.400138   47.735718   42.352966      47.053440      224.656464   \n",
       "1177963   966.660871  276.619362  164.137390    1060.800903     1395.338989   \n",
       "1177964   776.515447  475.442017   36.961853     776.103271      827.683777   \n",
       "1177965   868.010182  144.441529   16.280975     660.824036      875.992615   \n",
       "\n",
       "         h5_reco_mom_pi0  h5_reco_e_dwall  h5_reco_mu_dwall  \\\n",
       "0             174.225952        78.522018         81.258606   \n",
       "1             852.125244        75.189301         68.652374   \n",
       "2             256.429962        77.010956         82.076202   \n",
       "3             380.084259       176.663071        186.916916   \n",
       "4             896.135437       188.501816        171.798233   \n",
       "...                  ...              ...               ...   \n",
       "1177961       251.694260        88.268677         84.020935   \n",
       "1177962        89.081116        28.691895         31.922180   \n",
       "1177963      1042.614746       176.220901        167.305939   \n",
       "1177964       781.927734        49.248810         45.450897   \n",
       "1177965       921.807312         7.976654         27.445374   \n",
       "\n",
       "         h5_reco_pi0_dwall  h5_reco_e_towall  h5_reco_mu_towall  h5_vetos  sig  \n",
       "0               222.422247        180.486992         138.650068     False    0  \n",
       "1               365.440257        348.900632         395.226697     False    1  \n",
       "2               212.642671        151.587330         162.264948     False    0  \n",
       "3               302.117004        251.733536         269.217957     False    0  \n",
       "4               326.528673        259.277523         372.559954     False    0  \n",
       "...                    ...               ...                ...       ...  ...  \n",
       "1177961         319.846876        302.831977         341.878165     False    0  \n",
       "1177962          78.648987         36.108917          39.931274     False    0  \n",
       "1177963         335.428702        291.237657         422.852404     False    0  \n",
       "1177964         497.667969        475.733521         507.673065     False    1  \n",
       "1177965         189.206639        137.510764         205.556791     False    0  \n",
       "\n",
       "[1177966 rows x 13 columns]"
      ]
     },
     "execution_count": 16,
     "metadata": {},
     "output_type": "execute_result"
    }
   ],
   "source": [
    "df = df_pandas(1)\n",
    "df"
   ]
  },
  {
   "cell_type": "code",
   "execution_count": 17,
   "id": "eae82df4",
   "metadata": {},
   "outputs": [
    {
     "name": "stdout",
     "output_type": "stream",
     "text": [
      "using gbdt model\n"
     ]
    }
   ],
   "source": [
    "model = train_test_tree.CutEngine(df, train_col = ['h5_momentum', 'h5_towall', 'h5_dwall', 'sig'], lr = 0.1)"
   ]
  },
  {
   "cell_type": "code",
   "execution_count": 18,
   "id": "2f510ef1",
   "metadata": {},
   "outputs": [],
   "source": [
    "model.train()"
   ]
  },
  {
   "cell_type": "code",
   "execution_count": 19,
   "id": "6102ab06",
   "metadata": {},
   "outputs": [
    {
     "name": "stdout",
     "output_type": "stream",
     "text": [
      "[0.47664272 0.60698672 0.35871607 ... 0.02672338 0.23283402 0.30998689]\n"
     ]
    },
    {
     "data": {
      "image/png": "[encoded data removed]",
      "text/plain": [
       "<Figure size 640x480 with 1 Axes>"
      ]
     },
     "metadata": {},
     "output_type": "display_data"
    },
    {
     "data": {
      "text/plain": [
       "<Figure size 640x480 with 0 Axes>"
      ]
     },
     "metadata": {},
     "output_type": "display_data"
    }
   ],
   "source": [
    "test_prob = model.rf_model.predict_proba(model.X_test_scaled)[:,1]\n",
    "print(test_prob)\n",
    "model.plot_probs(test_prob)"
   ]
  },
  {
   "cell_type": "code",
   "execution_count": 20,
   "id": "90b4a107",
   "metadata": {},
   "outputs": [],
   "source": [
    "test_f1, prec, rec = model.test()\n"
   ]
  },
  {
   "cell_type": "code",
   "execution_count": 21,
   "id": "df23ff0f",
   "metadata": {},
   "outputs": [
    {
     "name": "stdout",
     "output_type": "stream",
     "text": [
      "0.5266087698269712 0.4951770489762897 0.7714507319910804\n"
     ]
    }
   ],
   "source": [
    "print(test_f1, prec, rec)"
   ]
  },
  {
   "cell_type": "code",
   "execution_count": 22,
   "id": "9c249e0e",
   "metadata": {
    "scrolled": true
   },
   "outputs": [
    {
     "name": "stdout",
     "output_type": "stream",
     "text": [
      "{'h5_momentum': 0.6264516137147141, 'h5_towall': 0.32189738263317935, 'h5_dwall': 0.0516510036521064}\n"
     ]
    }
   ],
   "source": [
    "feature_imp = model.get_features_importances()\n",
    "print(feature_imp)"
   ]
  },
  {
   "cell_type": "code",
   "execution_count": 23,
   "id": "90eebad3",
   "metadata": {},
   "outputs": [
    {
     "data": {
      "image/png": "[encoded data removed]",
      "text/plain": [
       "<Figure size 640x480 with 1 Axes>"
      ]
     },
     "metadata": {},
     "output_type": "display_data"
    },
    {
     "data": {
      "text/plain": [
       "(0.6250782149230211, 0.7656794095382287, 0.32587613670229476)"
      ]
     },
     "execution_count": 23,
     "metadata": {},
     "output_type": "execute_result"
    }
   ],
   "source": [
    "model.test_on_train()"
   ]
  },
  {
   "cell_type": "code",
   "execution_count": 24,
   "id": "2a2036db",
   "metadata": {},
   "outputs": [
    {
     "data": {
      "text/plain": [
       "0.26153846153846155"
      ]
     },
     "execution_count": 24,
     "metadata": {},
     "output_type": "execute_result"
    }
   ],
   "source": [
    "model.best_thresh"
   ]
  },
  {
   "cell_type": "code",
   "execution_count": 16,
   "id": "13c0fec7",
   "metadata": {},
   "outputs": [
    {
     "data": {
      "text/html": [
       "<div>\n",
       "<style scoped>\n",
       "    .dataframe tbody tr th:only-of-type {\n",
       "        vertical-align: middle;\n",
       "    }\n",
       "\n",
       "    .dataframe tbody tr th {\n",
       "        vertical-align: top;\n",
       "    }\n",
       "\n",
       "    .dataframe thead th {\n",
       "        text-align: right;\n",
       "    }\n",
       "</style>\n",
       "<table border=\"1\" class=\"dataframe\">\n",
       "  <thead>\n",
       "    <tr style=\"text-align: right;\">\n",
       "      <th></th>\n",
       "      <th>h5_momentum</th>\n",
       "      <th>h5_towall</th>\n",
       "      <th>h5_dwall</th>\n",
       "      <th>h5_reco_mom_e</th>\n",
       "      <th>h5_reco_mom_mu</th>\n",
       "      <th>h5_reco_mom_pi0</th>\n",
       "      <th>h5_reco_e_dwall</th>\n",
       "      <th>h5_reco_mu_dwall</th>\n",
       "      <th>h5_reco_pi0_dwall</th>\n",
       "      <th>h5_reco_e_towall</th>\n",
       "      <th>h5_reco_mu_towall</th>\n",
       "      <th>h5_vetos</th>\n",
       "      <th>sig</th>\n",
       "    </tr>\n",
       "  </thead>\n",
       "  <tbody>\n",
       "    <tr>\n",
       "      <th>0</th>\n",
       "      <td>390.431045</td>\n",
       "      <td>190.761574</td>\n",
       "      <td>64.608521</td>\n",
       "      <td>195.601089</td>\n",
       "      <td>396.211212</td>\n",
       "      <td>182.222870</td>\n",
       "      <td>96.302521</td>\n",
       "      <td>69.485870</td>\n",
       "      <td>236.576526</td>\n",
       "      <td>153.853203</td>\n",
       "      <td>190.813670</td>\n",
       "      <td>False</td>\n",
       "      <td>1</td>\n",
       "    </tr>\n",
       "    <tr>\n",
       "      <th>1</th>\n",
       "      <td>366.958181</td>\n",
       "      <td>116.690399</td>\n",
       "      <td>64.063889</td>\n",
       "      <td>198.519302</td>\n",
       "      <td>365.972717</td>\n",
       "      <td>143.889603</td>\n",
       "      <td>58.443497</td>\n",
       "      <td>65.958130</td>\n",
       "      <td>94.797974</td>\n",
       "      <td>93.373962</td>\n",
       "      <td>122.936218</td>\n",
       "      <td>False</td>\n",
       "      <td>1</td>\n",
       "    </tr>\n",
       "    <tr>\n",
       "      <th>2</th>\n",
       "      <td>820.022567</td>\n",
       "      <td>157.898254</td>\n",
       "      <td>146.082779</td>\n",
       "      <td>401.116699</td>\n",
       "      <td>500.035950</td>\n",
       "      <td>382.356476</td>\n",
       "      <td>130.241394</td>\n",
       "      <td>144.116730</td>\n",
       "      <td>191.744995</td>\n",
       "      <td>130.958557</td>\n",
       "      <td>162.748840</td>\n",
       "      <td>True</td>\n",
       "      <td>0</td>\n",
       "    </tr>\n",
       "    <tr>\n",
       "      <th>3</th>\n",
       "      <td>245.318675</td>\n",
       "      <td>162.169028</td>\n",
       "      <td>4.677948</td>\n",
       "      <td>70.471001</td>\n",
       "      <td>290.330841</td>\n",
       "      <td>35.003506</td>\n",
       "      <td>11.607086</td>\n",
       "      <td>7.784149</td>\n",
       "      <td>123.351176</td>\n",
       "      <td>69.992909</td>\n",
       "      <td>104.375438</td>\n",
       "      <td>False</td>\n",
       "      <td>0</td>\n",
       "    </tr>\n",
       "    <tr>\n",
       "      <th>4</th>\n",
       "      <td>190.499196</td>\n",
       "      <td>57.558180</td>\n",
       "      <td>39.656494</td>\n",
       "      <td>25.277693</td>\n",
       "      <td>189.667313</td>\n",
       "      <td>27.085699</td>\n",
       "      <td>32.237762</td>\n",
       "      <td>54.290863</td>\n",
       "      <td>70.851217</td>\n",
       "      <td>36.393268</td>\n",
       "      <td>61.813642</td>\n",
       "      <td>False</td>\n",
       "      <td>1</td>\n",
       "    </tr>\n",
       "    <tr>\n",
       "      <th>...</th>\n",
       "      <td>...</td>\n",
       "      <td>...</td>\n",
       "      <td>...</td>\n",
       "      <td>...</td>\n",
       "      <td>...</td>\n",
       "      <td>...</td>\n",
       "      <td>...</td>\n",
       "      <td>...</td>\n",
       "      <td>...</td>\n",
       "      <td>...</td>\n",
       "      <td>...</td>\n",
       "      <td>...</td>\n",
       "      <td>...</td>\n",
       "    </tr>\n",
       "    <tr>\n",
       "      <th>1164134</th>\n",
       "      <td>579.695268</td>\n",
       "      <td>491.248047</td>\n",
       "      <td>31.538849</td>\n",
       "      <td>328.118530</td>\n",
       "      <td>534.324768</td>\n",
       "      <td>322.024109</td>\n",
       "      <td>47.647659</td>\n",
       "      <td>35.816620</td>\n",
       "      <td>264.857056</td>\n",
       "      <td>286.661499</td>\n",
       "      <td>540.725586</td>\n",
       "      <td>False</td>\n",
       "      <td>0</td>\n",
       "    </tr>\n",
       "    <tr>\n",
       "      <th>1164135</th>\n",
       "      <td>1001.043398</td>\n",
       "      <td>178.580150</td>\n",
       "      <td>129.652344</td>\n",
       "      <td>400.317322</td>\n",
       "      <td>543.000122</td>\n",
       "      <td>404.001007</td>\n",
       "      <td>138.309235</td>\n",
       "      <td>151.574570</td>\n",
       "      <td>198.652914</td>\n",
       "      <td>175.155650</td>\n",
       "      <td>191.757191</td>\n",
       "      <td>True</td>\n",
       "      <td>0</td>\n",
       "    </tr>\n",
       "    <tr>\n",
       "      <th>1164136</th>\n",
       "      <td>945.693831</td>\n",
       "      <td>33.418060</td>\n",
       "      <td>31.273712</td>\n",
       "      <td>18.327209</td>\n",
       "      <td>187.888229</td>\n",
       "      <td>31.908281</td>\n",
       "      <td>9.576324</td>\n",
       "      <td>9.564362</td>\n",
       "      <td>NaN</td>\n",
       "      <td>597.651026</td>\n",
       "      <td>398.410923</td>\n",
       "      <td>True</td>\n",
       "      <td>0</td>\n",
       "    </tr>\n",
       "    <tr>\n",
       "      <th>1164137</th>\n",
       "      <td>889.349346</td>\n",
       "      <td>372.878450</td>\n",
       "      <td>298.996674</td>\n",
       "      <td>771.922607</td>\n",
       "      <td>916.760193</td>\n",
       "      <td>797.359070</td>\n",
       "      <td>280.669922</td>\n",
       "      <td>293.031433</td>\n",
       "      <td>377.780664</td>\n",
       "      <td>326.482257</td>\n",
       "      <td>384.074852</td>\n",
       "      <td>False</td>\n",
       "      <td>0</td>\n",
       "    </tr>\n",
       "    <tr>\n",
       "      <th>1164138</th>\n",
       "      <td>628.791682</td>\n",
       "      <td>35.702057</td>\n",
       "      <td>26.617859</td>\n",
       "      <td>38.326618</td>\n",
       "      <td>235.659866</td>\n",
       "      <td>42.918720</td>\n",
       "      <td>22.180389</td>\n",
       "      <td>23.633820</td>\n",
       "      <td>57.627472</td>\n",
       "      <td>27.107819</td>\n",
       "      <td>39.525055</td>\n",
       "      <td>True</td>\n",
       "      <td>0</td>\n",
       "    </tr>\n",
       "  </tbody>\n",
       "</table>\n",
       "<p>1164139 rows × 13 columns</p>\n",
       "</div>"
      ],
      "text/plain": [
       "         h5_momentum   h5_towall    h5_dwall  h5_reco_mom_e  h5_reco_mom_mu  \\\n",
       "0         390.431045  190.761574   64.608521     195.601089      396.211212   \n",
       "1         366.958181  116.690399   64.063889     198.519302      365.972717   \n",
       "2         820.022567  157.898254  146.082779     401.116699      500.035950   \n",
       "3         245.318675  162.169028    4.677948      70.471001      290.330841   \n",
       "4         190.499196   57.558180   39.656494      25.277693      189.667313   \n",
       "...              ...         ...         ...            ...             ...   \n",
       "1164134   579.695268  491.248047   31.538849     328.118530      534.324768   \n",
       "1164135  1001.043398  178.580150  129.652344     400.317322      543.000122   \n",
       "1164136   945.693831   33.418060   31.273712      18.327209      187.888229   \n",
       "1164137   889.349346  372.878450  298.996674     771.922607      916.760193   \n",
       "1164138   628.791682   35.702057   26.617859      38.326618      235.659866   \n",
       "\n",
       "         h5_reco_mom_pi0  h5_reco_e_dwall  h5_reco_mu_dwall  \\\n",
       "0             182.222870        96.302521         69.485870   \n",
       "1             143.889603        58.443497         65.958130   \n",
       "2             382.356476       130.241394        144.116730   \n",
       "3              35.003506        11.607086          7.784149   \n",
       "4              27.085699        32.237762         54.290863   \n",
       "...                  ...              ...               ...   \n",
       "1164134       322.024109        47.647659         35.816620   \n",
       "1164135       404.001007       138.309235        151.574570   \n",
       "1164136        31.908281         9.576324          9.564362   \n",
       "1164137       797.359070       280.669922        293.031433   \n",
       "1164138        42.918720        22.180389         23.633820   \n",
       "\n",
       "         h5_reco_pi0_dwall  h5_reco_e_towall  h5_reco_mu_towall  h5_vetos  sig  \n",
       "0               236.576526        153.853203         190.813670     False    1  \n",
       "1                94.797974         93.373962         122.936218     False    1  \n",
       "2               191.744995        130.958557         162.748840      True    0  \n",
       "3               123.351176         69.992909         104.375438     False    0  \n",
       "4                70.851217         36.393268          61.813642     False    1  \n",
       "...                    ...               ...                ...       ...  ...  \n",
       "1164134         264.857056        286.661499         540.725586     False    0  \n",
       "1164135         198.652914        175.155650         191.757191      True    0  \n",
       "1164136                NaN        597.651026         398.410923      True    0  \n",
       "1164137         377.780664        326.482257         384.074852     False    0  \n",
       "1164138          57.627472         27.107819          39.525055      True    0  \n",
       "\n",
       "[1164139 rows x 13 columns]"
      ]
     },
     "execution_count": 16,
     "metadata": {},
     "output_type": "execute_result"
    }
   ],
   "source": [
    "df = df_pandas(2)\n",
    "df"
   ]
  },
  {
   "cell_type": "code",
   "execution_count": 17,
   "id": "9f60212c",
   "metadata": {},
   "outputs": [
    {
     "name": "stdout",
     "output_type": "stream",
     "text": [
      "using gbdt model\n"
     ]
    }
   ],
   "source": [
    "model = train_test_tree.CutEngine(df, train_col = ['h5_momentum', 'h5_towall', 'h5_dwall', 'sig'], lr = 0.1)"
   ]
  },
  {
   "cell_type": "code",
   "execution_count": 18,
   "id": "d726f0b9",
   "metadata": {},
   "outputs": [],
   "source": [
    "model.train()"
   ]
  },
  {
   "cell_type": "code",
   "execution_count": 19,
   "id": "81390fe4",
   "metadata": {},
   "outputs": [
    {
     "name": "stdout",
     "output_type": "stream",
     "text": [
      "[0.42670733 0.35279443 0.03613873 ... 0.01149272 0.00693614 0.35046379]\n"
     ]
    },
    {
     "data": {
      "image/png": "[encoded data removed]",
      "text/plain": [
       "<Figure size 640x480 with 1 Axes>"
      ]
     },
     "metadata": {},
     "output_type": "display_data"
    },
    {
     "data": {
      "text/plain": [
       "<Figure size 640x480 with 0 Axes>"
      ]
     },
     "metadata": {},
     "output_type": "display_data"
    }
   ],
   "source": [
    "test_prob = model.rf_model.predict_proba(model.X_test_scaled)[:,1]\n",
    "print(test_prob)\n",
    "model.plot_probs(test_prob)"
   ]
  },
  {
   "cell_type": "code",
   "execution_count": 20,
   "id": "9994062e",
   "metadata": {},
   "outputs": [],
   "source": [
    "test_f1, prec, rec = model.test()\n"
   ]
  },
  {
   "cell_type": "code",
   "execution_count": 22,
   "id": "f61e15af",
   "metadata": {},
   "outputs": [
    {
     "name": "stdout",
     "output_type": "stream",
     "text": [
      "0.570144556505858 0.5312850435337557 0.8988739780965602\n"
     ]
    }
   ],
   "source": [
    "print(test_f1, prec, rec)"
   ]
  },
  {
   "cell_type": "code",
   "execution_count": 21,
   "id": "41eb9d38",
   "metadata": {},
   "outputs": [
    {
     "name": "stdout",
     "output_type": "stream",
     "text": [
      "{'h5_momentum': 0.6082175247432982, 'h5_towall': 0.3477902644672375, 'h5_dwall': 0.043992210789464366}\n"
     ]
    }
   ],
   "source": [
    "feature_imp = model.get_features_importances()\n",
    "print(feature_imp)"
   ]
  },
  {
   "cell_type": "code",
   "execution_count": 16,
   "id": "3b6ceb50",
   "metadata": {},
   "outputs": [
    {
     "data": {
      "text/html": [
       "<div>\n",
       "<style scoped>\n",
       "    .dataframe tbody tr th:only-of-type {\n",
       "        vertical-align: middle;\n",
       "    }\n",
       "\n",
       "    .dataframe tbody tr th {\n",
       "        vertical-align: top;\n",
       "    }\n",
       "\n",
       "    .dataframe thead th {\n",
       "        text-align: right;\n",
       "    }\n",
       "</style>\n",
       "<table border=\"1\" class=\"dataframe\">\n",
       "  <thead>\n",
       "    <tr style=\"text-align: right;\">\n",
       "      <th></th>\n",
       "      <th>h5_momentum</th>\n",
       "      <th>h5_towall</th>\n",
       "      <th>h5_dwall</th>\n",
       "      <th>h5_reco_mom_e</th>\n",
       "      <th>h5_reco_mom_mu</th>\n",
       "      <th>h5_reco_mom_pi0</th>\n",
       "      <th>h5_reco_e_dwall</th>\n",
       "      <th>h5_reco_mu_dwall</th>\n",
       "      <th>h5_reco_pi0_dwall</th>\n",
       "      <th>h5_reco_e_towall</th>\n",
       "      <th>h5_reco_mu_towall</th>\n",
       "      <th>h5_vetos</th>\n",
       "      <th>sig</th>\n",
       "    </tr>\n",
       "  </thead>\n",
       "  <tbody>\n",
       "    <tr>\n",
       "      <th>0</th>\n",
       "      <td>390.431045</td>\n",
       "      <td>190.761574</td>\n",
       "      <td>64.608521</td>\n",
       "      <td>195.601089</td>\n",
       "      <td>396.211212</td>\n",
       "      <td>182.222870</td>\n",
       "      <td>96.302521</td>\n",
       "      <td>69.485870</td>\n",
       "      <td>236.576526</td>\n",
       "      <td>153.853203</td>\n",
       "      <td>190.813670</td>\n",
       "      <td>False</td>\n",
       "      <td>1</td>\n",
       "    </tr>\n",
       "    <tr>\n",
       "      <th>1</th>\n",
       "      <td>366.958181</td>\n",
       "      <td>116.690399</td>\n",
       "      <td>64.063889</td>\n",
       "      <td>198.519302</td>\n",
       "      <td>365.972717</td>\n",
       "      <td>143.889603</td>\n",
       "      <td>58.443497</td>\n",
       "      <td>65.958130</td>\n",
       "      <td>94.797974</td>\n",
       "      <td>93.373962</td>\n",
       "      <td>122.936218</td>\n",
       "      <td>False</td>\n",
       "      <td>1</td>\n",
       "    </tr>\n",
       "    <tr>\n",
       "      <th>2</th>\n",
       "      <td>820.022567</td>\n",
       "      <td>157.898254</td>\n",
       "      <td>146.082779</td>\n",
       "      <td>401.116699</td>\n",
       "      <td>500.035950</td>\n",
       "      <td>382.356476</td>\n",
       "      <td>130.241394</td>\n",
       "      <td>144.116730</td>\n",
       "      <td>191.744995</td>\n",
       "      <td>130.958557</td>\n",
       "      <td>162.748840</td>\n",
       "      <td>True</td>\n",
       "      <td>0</td>\n",
       "    </tr>\n",
       "    <tr>\n",
       "      <th>3</th>\n",
       "      <td>245.318675</td>\n",
       "      <td>162.169028</td>\n",
       "      <td>4.677948</td>\n",
       "      <td>70.471001</td>\n",
       "      <td>290.330841</td>\n",
       "      <td>35.003506</td>\n",
       "      <td>11.607086</td>\n",
       "      <td>7.784149</td>\n",
       "      <td>123.351176</td>\n",
       "      <td>69.992909</td>\n",
       "      <td>104.375438</td>\n",
       "      <td>False</td>\n",
       "      <td>0</td>\n",
       "    </tr>\n",
       "    <tr>\n",
       "      <th>4</th>\n",
       "      <td>190.499196</td>\n",
       "      <td>57.558180</td>\n",
       "      <td>39.656494</td>\n",
       "      <td>25.277693</td>\n",
       "      <td>189.667313</td>\n",
       "      <td>27.085699</td>\n",
       "      <td>32.237762</td>\n",
       "      <td>54.290863</td>\n",
       "      <td>70.851217</td>\n",
       "      <td>36.393268</td>\n",
       "      <td>61.813642</td>\n",
       "      <td>False</td>\n",
       "      <td>1</td>\n",
       "    </tr>\n",
       "    <tr>\n",
       "      <th>...</th>\n",
       "      <td>...</td>\n",
       "      <td>...</td>\n",
       "      <td>...</td>\n",
       "      <td>...</td>\n",
       "      <td>...</td>\n",
       "      <td>...</td>\n",
       "      <td>...</td>\n",
       "      <td>...</td>\n",
       "      <td>...</td>\n",
       "      <td>...</td>\n",
       "      <td>...</td>\n",
       "      <td>...</td>\n",
       "      <td>...</td>\n",
       "    </tr>\n",
       "    <tr>\n",
       "      <th>1164134</th>\n",
       "      <td>579.695268</td>\n",
       "      <td>491.248047</td>\n",
       "      <td>31.538849</td>\n",
       "      <td>328.118530</td>\n",
       "      <td>534.324768</td>\n",
       "      <td>322.024109</td>\n",
       "      <td>47.647659</td>\n",
       "      <td>35.816620</td>\n",
       "      <td>264.857056</td>\n",
       "      <td>286.661499</td>\n",
       "      <td>540.725586</td>\n",
       "      <td>False</td>\n",
       "      <td>0</td>\n",
       "    </tr>\n",
       "    <tr>\n",
       "      <th>1164135</th>\n",
       "      <td>1001.043398</td>\n",
       "      <td>178.580150</td>\n",
       "      <td>129.652344</td>\n",
       "      <td>400.317322</td>\n",
       "      <td>543.000122</td>\n",
       "      <td>404.001007</td>\n",
       "      <td>138.309235</td>\n",
       "      <td>151.574570</td>\n",
       "      <td>198.652914</td>\n",
       "      <td>175.155650</td>\n",
       "      <td>191.757191</td>\n",
       "      <td>True</td>\n",
       "      <td>0</td>\n",
       "    </tr>\n",
       "    <tr>\n",
       "      <th>1164136</th>\n",
       "      <td>945.693831</td>\n",
       "      <td>33.418060</td>\n",
       "      <td>31.273712</td>\n",
       "      <td>18.327209</td>\n",
       "      <td>187.888229</td>\n",
       "      <td>31.908281</td>\n",
       "      <td>9.576324</td>\n",
       "      <td>9.564362</td>\n",
       "      <td>NaN</td>\n",
       "      <td>597.651026</td>\n",
       "      <td>398.410923</td>\n",
       "      <td>True</td>\n",
       "      <td>0</td>\n",
       "    </tr>\n",
       "    <tr>\n",
       "      <th>1164137</th>\n",
       "      <td>889.349346</td>\n",
       "      <td>372.878450</td>\n",
       "      <td>298.996674</td>\n",
       "      <td>771.922607</td>\n",
       "      <td>916.760193</td>\n",
       "      <td>797.359070</td>\n",
       "      <td>280.669922</td>\n",
       "      <td>293.031433</td>\n",
       "      <td>377.780664</td>\n",
       "      <td>326.482257</td>\n",
       "      <td>384.074852</td>\n",
       "      <td>False</td>\n",
       "      <td>0</td>\n",
       "    </tr>\n",
       "    <tr>\n",
       "      <th>1164138</th>\n",
       "      <td>628.791682</td>\n",
       "      <td>35.702057</td>\n",
       "      <td>26.617859</td>\n",
       "      <td>38.326618</td>\n",
       "      <td>235.659866</td>\n",
       "      <td>42.918720</td>\n",
       "      <td>22.180389</td>\n",
       "      <td>23.633820</td>\n",
       "      <td>57.627472</td>\n",
       "      <td>27.107819</td>\n",
       "      <td>39.525055</td>\n",
       "      <td>True</td>\n",
       "      <td>0</td>\n",
       "    </tr>\n",
       "  </tbody>\n",
       "</table>\n",
       "<p>1164139 rows × 13 columns</p>\n",
       "</div>"
      ],
      "text/plain": [
       "         h5_momentum   h5_towall    h5_dwall  h5_reco_mom_e  h5_reco_mom_mu  \\\n",
       "0         390.431045  190.761574   64.608521     195.601089      396.211212   \n",
       "1         366.958181  116.690399   64.063889     198.519302      365.972717   \n",
       "2         820.022567  157.898254  146.082779     401.116699      500.035950   \n",
       "3         245.318675  162.169028    4.677948      70.471001      290.330841   \n",
       "4         190.499196   57.558180   39.656494      25.277693      189.667313   \n",
       "...              ...         ...         ...            ...             ...   \n",
       "1164134   579.695268  491.248047   31.538849     328.118530      534.324768   \n",
       "1164135  1001.043398  178.580150  129.652344     400.317322      543.000122   \n",
       "1164136   945.693831   33.418060   31.273712      18.327209      187.888229   \n",
       "1164137   889.349346  372.878450  298.996674     771.922607      916.760193   \n",
       "1164138   628.791682   35.702057   26.617859      38.326618      235.659866   \n",
       "\n",
       "         h5_reco_mom_pi0  h5_reco_e_dwall  h5_reco_mu_dwall  \\\n",
       "0             182.222870        96.302521         69.485870   \n",
       "1             143.889603        58.443497         65.958130   \n",
       "2             382.356476       130.241394        144.116730   \n",
       "3              35.003506        11.607086          7.784149   \n",
       "4              27.085699        32.237762         54.290863   \n",
       "...                  ...              ...               ...   \n",
       "1164134       322.024109        47.647659         35.816620   \n",
       "1164135       404.001007       138.309235        151.574570   \n",
       "1164136        31.908281         9.576324          9.564362   \n",
       "1164137       797.359070       280.669922        293.031433   \n",
       "1164138        42.918720        22.180389         23.633820   \n",
       "\n",
       "         h5_reco_pi0_dwall  h5_reco_e_towall  h5_reco_mu_towall  h5_vetos  sig  \n",
       "0               236.576526        153.853203         190.813670     False    1  \n",
       "1                94.797974         93.373962         122.936218     False    1  \n",
       "2               191.744995        130.958557         162.748840      True    0  \n",
       "3               123.351176         69.992909         104.375438     False    0  \n",
       "4                70.851217         36.393268          61.813642     False    1  \n",
       "...                    ...               ...                ...       ...  ...  \n",
       "1164134         264.857056        286.661499         540.725586     False    0  \n",
       "1164135         198.652914        175.155650         191.757191      True    0  \n",
       "1164136                NaN        597.651026         398.410923      True    0  \n",
       "1164137         377.780664        326.482257         384.074852     False    0  \n",
       "1164138          57.627472         27.107819          39.525055      True    0  \n",
       "\n",
       "[1164139 rows x 13 columns]"
      ]
     },
     "execution_count": 16,
     "metadata": {},
     "output_type": "execute_result"
    }
   ],
   "source": [
    "df = df_pandas(2)\n",
    "df"
   ]
  },
  {
   "cell_type": "code",
   "execution_count": 17,
   "id": "5927238e",
   "metadata": {},
   "outputs": [
    {
     "name": "stdout",
     "output_type": "stream",
     "text": [
      "using gbdt model\n"
     ]
    }
   ],
   "source": [
    "model = train_test_tree.CutEngine(df, train_col = ['h5_momentum', 'h5_towall', 'h5_dwall', 'sig'], lr = 0.1)"
   ]
  },
  {
   "cell_type": "code",
   "execution_count": 18,
   "id": "b43caf8a",
   "metadata": {},
   "outputs": [],
   "source": [
    "model.train()"
   ]
  },
  {
   "cell_type": "code",
   "execution_count": 19,
   "id": "e31ee207",
   "metadata": {},
   "outputs": [
    {
     "name": "stdout",
     "output_type": "stream",
     "text": [
      "[0.41781073 0.34604932 0.04115978 ... 0.01353464 0.00465812 0.36111846]\n"
     ]
    },
    {
     "data": {
      "image/png": "[encoded data removed]",
      "text/plain": [
       "<Figure size 640x480 with 1 Axes>"
      ]
     },
     "metadata": {},
     "output_type": "display_data"
    },
    {
     "data": {
      "text/plain": [
       "<Figure size 640x480 with 0 Axes>"
      ]
     },
     "metadata": {},
     "output_type": "display_data"
    }
   ],
   "source": [
    "test_prob = model.rf_model.predict_proba(model.X_test_scaled)[:,1]\n",
    "print(test_prob)\n",
    "model.plot_probs(test_prob)"
   ]
  },
  {
   "cell_type": "code",
   "execution_count": 20,
   "id": "c32b476f",
   "metadata": {},
   "outputs": [],
   "source": [
    "test_f1, prec, rec = model.test()\n"
   ]
  },
  {
   "cell_type": "code",
   "execution_count": 22,
   "id": "d881ecca",
   "metadata": {},
   "outputs": [
    {
     "name": "stdout",
     "output_type": "stream",
     "text": [
      "0.575542673592813 0.5379664292885223 0.8844207928428197\n"
     ]
    }
   ],
   "source": [
    "print(test_f1, prec, rec)"
   ]
  }
 ],
 "metadata": {
  "kernelspec": {
   "display_name": "Python 3 (ipykernel)",
   "language": "python",
   "name": "python3"
  },
  "language_info": {
   "codemirror_mode": {
    "name": "ipython",
    "version": 3
   },
   "file_extension": ".py",
   "mimetype": "text/x-python",
   "name": "python",
   "nbconvert_exporter": "python",
   "pygments_lexer": "ipython3",
   "version": "3.8.10"
  }
 },
 "nbformat": 4,
 "nbformat_minor": 5
}
